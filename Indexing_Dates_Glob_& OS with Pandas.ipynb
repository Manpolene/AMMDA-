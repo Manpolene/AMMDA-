{
 "cells": [
  {
   "cell_type": "code",
   "execution_count": 4,
   "id": "c0202c8e-9697-4326-960f-03e31ca052a6",
   "metadata": {},
   "outputs": [],
   "source": [
    "import pandas as pd"
   ]
  },
  {
   "cell_type": "code",
   "execution_count": 11,
   "id": "b7c0c3b7-4729-4bab-809a-e1b0f1938155",
   "metadata": {},
   "outputs": [],
   "source": [
    "dwd_data_44 = pd.read_csv('/data/ammda/2021/stundenwerte_TU_00044_20070401_20201231_hist/produkt_tu_stunde_20070401_20201231_00044.txt',\n",
    "           sep=';')"
   ]
  },
  {
   "cell_type": "code",
   "execution_count": 23,
   "id": "71f9dbf8-7a18-445d-8b13-d9e01ddde6c3",
   "metadata": {},
   "outputs": [
    {
     "data": {
      "text/html": [
       "<div>\n",
       "<style scoped>\n",
       "    .dataframe tbody tr th:only-of-type {\n",
       "        vertical-align: middle;\n",
       "    }\n",
       "\n",
       "    .dataframe tbody tr th {\n",
       "        vertical-align: top;\n",
       "    }\n",
       "\n",
       "    .dataframe thead th {\n",
       "        text-align: right;\n",
       "    }\n",
       "</style>\n",
       "<table border=\"1\" class=\"dataframe\">\n",
       "  <thead>\n",
       "    <tr style=\"text-align: right;\">\n",
       "      <th></th>\n",
       "      <th>STATIONS_ID</th>\n",
       "      <th>MESS_DATUM</th>\n",
       "      <th>QN_9</th>\n",
       "      <th>TT_TU</th>\n",
       "      <th>RF_TU</th>\n",
       "      <th>eor</th>\n",
       "    </tr>\n",
       "  </thead>\n",
       "  <tbody>\n",
       "    <tr>\n",
       "      <th>0</th>\n",
       "      <td>44</td>\n",
       "      <td>2007040100</td>\n",
       "      <td>3</td>\n",
       "      <td>7.3</td>\n",
       "      <td>78.0</td>\n",
       "      <td>eor</td>\n",
       "    </tr>\n",
       "    <tr>\n",
       "      <th>1</th>\n",
       "      <td>44</td>\n",
       "      <td>2007040101</td>\n",
       "      <td>3</td>\n",
       "      <td>6.4</td>\n",
       "      <td>79.0</td>\n",
       "      <td>eor</td>\n",
       "    </tr>\n",
       "    <tr>\n",
       "      <th>2</th>\n",
       "      <td>44</td>\n",
       "      <td>2007040102</td>\n",
       "      <td>3</td>\n",
       "      <td>5.4</td>\n",
       "      <td>80.0</td>\n",
       "      <td>eor</td>\n",
       "    </tr>\n",
       "    <tr>\n",
       "      <th>3</th>\n",
       "      <td>44</td>\n",
       "      <td>2007040103</td>\n",
       "      <td>3</td>\n",
       "      <td>4.9</td>\n",
       "      <td>80.0</td>\n",
       "      <td>eor</td>\n",
       "    </tr>\n",
       "    <tr>\n",
       "      <th>4</th>\n",
       "      <td>44</td>\n",
       "      <td>2007040104</td>\n",
       "      <td>3</td>\n",
       "      <td>4.5</td>\n",
       "      <td>77.0</td>\n",
       "      <td>eor</td>\n",
       "    </tr>\n",
       "  </tbody>\n",
       "</table>\n",
       "</div>"
      ],
      "text/plain": [
       "   STATIONS_ID  MESS_DATUM  QN_9  TT_TU  RF_TU  eor\n",
       "0           44  2007040100     3    7.3   78.0  eor\n",
       "1           44  2007040101     3    6.4   79.0  eor\n",
       "2           44  2007040102     3    5.4   80.0  eor\n",
       "3           44  2007040103     3    4.9   80.0  eor\n",
       "4           44  2007040104     3    4.5   77.0  eor"
      ]
     },
     "execution_count": 23,
     "metadata": {},
     "output_type": "execute_result"
    }
   ],
   "source": [
    "dwd_data_44.head() #Now the data is correctly splitted into multiply columns"
   ]
  },
  {
   "cell_type": "markdown",
   "id": "1eea4bb2-b437-4d21-818b-4409882d62de",
   "metadata": {},
   "source": [
    "## Indexing or read single column\n",
    "If we wanted to get single columns, rows or elements of a numpy array we used indexing so far, for pandas dataframe it is even easier to get the data you want to look at, let's say you want to just look at the Temperature \n",
    "\n",
    "First we have to identify the column storing the temperture, from additional data given on the DWD server we now that the temperature is stored in TT_TU, this we can now use to index the dataframe"
   ]
  },
  {
   "cell_type": "code",
   "execution_count": 22,
   "id": "7e906965-920b-4be9-9b6e-f384949277ff",
   "metadata": {},
   "outputs": [
    {
     "data": {
      "text/plain": [
       "0    7.3\n",
       "1    6.4\n",
       "2    5.4\n",
       "3    4.9\n",
       "4    4.5\n",
       "Name: TT_TU, dtype: float64"
      ]
     },
     "execution_count": 22,
     "metadata": {},
     "output_type": "execute_result"
    }
   ],
   "source": [
    "dwd_data_44['TT_TU'].head()"
   ]
  },
  {
   "cell_type": "markdown",
   "id": "2025bbd7-ad9d-401d-807a-9b786f299ee6",
   "metadata": {},
   "source": [
    "We now see only this column data, together with the index column, so the very first column. This is called a _pandas series_. \\\n",
    "A _pandas dataframe_ consists of multiple _pandas series_."
   ]
  },
  {
   "cell_type": "code",
   "execution_count": 24,
   "id": "a4ed9008-e0bb-4713-93a5-4226e8818d1f",
   "metadata": {},
   "outputs": [
    {
     "data": {
      "text/plain": [
       "0    78.0\n",
       "1    79.0\n",
       "2    80.0\n",
       "3    80.0\n",
       "4    77.0\n",
       "Name: RF_TU, dtype: float64"
      ]
     },
     "execution_count": 24,
     "metadata": {},
     "output_type": "execute_result"
    }
   ],
   "source": [
    "dwd_data_44['RF_TU'].head() # Ofcourse we can also select another column"
   ]
  },
  {
   "cell_type": "code",
   "execution_count": 21,
   "id": "eb75280b-e72a-4e25-9d8c-227b7625e88f",
   "metadata": {},
   "outputs": [
    {
     "data": {
      "text/html": [
       "<div>\n",
       "<style scoped>\n",
       "    .dataframe tbody tr th:only-of-type {\n",
       "        vertical-align: middle;\n",
       "    }\n",
       "\n",
       "    .dataframe tbody tr th {\n",
       "        vertical-align: top;\n",
       "    }\n",
       "\n",
       "    .dataframe thead th {\n",
       "        text-align: right;\n",
       "    }\n",
       "</style>\n",
       "<table border=\"1\" class=\"dataframe\">\n",
       "  <thead>\n",
       "    <tr style=\"text-align: right;\">\n",
       "      <th></th>\n",
       "      <th>TT_TU</th>\n",
       "      <th>RF_TU</th>\n",
       "    </tr>\n",
       "  </thead>\n",
       "  <tbody>\n",
       "    <tr>\n",
       "      <th>0</th>\n",
       "      <td>7.3</td>\n",
       "      <td>78.0</td>\n",
       "    </tr>\n",
       "    <tr>\n",
       "      <th>1</th>\n",
       "      <td>6.4</td>\n",
       "      <td>79.0</td>\n",
       "    </tr>\n",
       "    <tr>\n",
       "      <th>2</th>\n",
       "      <td>5.4</td>\n",
       "      <td>80.0</td>\n",
       "    </tr>\n",
       "    <tr>\n",
       "      <th>3</th>\n",
       "      <td>4.9</td>\n",
       "      <td>80.0</td>\n",
       "    </tr>\n",
       "    <tr>\n",
       "      <th>4</th>\n",
       "      <td>4.5</td>\n",
       "      <td>77.0</td>\n",
       "    </tr>\n",
       "  </tbody>\n",
       "</table>\n",
       "</div>"
      ],
      "text/plain": [
       "   TT_TU  RF_TU\n",
       "0    7.3   78.0\n",
       "1    6.4   79.0\n",
       "2    5.4   80.0\n",
       "3    4.9   80.0\n",
       "4    4.5   77.0"
      ]
     },
     "execution_count": 21,
     "metadata": {},
     "output_type": "execute_result"
    }
   ],
   "source": [
    "dwd_data_44[['TT_TU', 'RF_TU']].head() # we can select multiple columns"
   ]
  },
  {
   "cell_type": "markdown",
   "id": "fc299bba-2d7a-4075-9701-2a820efa60ee",
   "metadata": {},
   "source": [
    "## Get the column names"
   ]
  },
  {
   "cell_type": "code",
   "execution_count": 26,
   "id": "1d53a534-2ce9-4ab6-9cce-170543d0b0cf",
   "metadata": {},
   "outputs": [
    {
     "data": {
      "text/plain": [
       "Index(['STATIONS_ID', 'MESS_DATUM', 'QN_9', 'TT_TU', 'RF_TU', 'eor'], dtype='object')"
      ]
     },
     "execution_count": 26,
     "metadata": {},
     "output_type": "execute_result"
    }
   ],
   "source": [
    "dwd_data_44.columns"
   ]
  },
  {
   "cell_type": "markdown",
   "id": "6d620d7f-e8b3-4424-a645-fa817ccd19a4",
   "metadata": {},
   "source": [
    "## Set index\n",
    "There are two ways to set the index, either you directly tell pandas which column it should use as an index when opening the data or we set it manually afterwards"
   ]
  },
  {
   "cell_type": "code",
   "execution_count": 27,
   "id": "dd6d8764-acde-4572-a82d-2c988721f64b",
   "metadata": {},
   "outputs": [],
   "source": [
    "dwd_data_44_2 = pd.read_csv('/data/ammda/2021/stundenwerte_TU_00044_20070401_20201231_hist/produkt_tu_stunde_20070401_20201231_00044.txt',\n",
    "           sep=';', index_col=['MESS_DATUM']) #mess_datum is german for measuring date"
   ]
  },
  {
   "cell_type": "code",
   "execution_count": 29,
   "id": "0aa615ce-a73a-49fd-9c9f-f64b376c55f0",
   "metadata": {},
   "outputs": [
    {
     "data": {
      "text/html": [
       "<div>\n",
       "<style scoped>\n",
       "    .dataframe tbody tr th:only-of-type {\n",
       "        vertical-align: middle;\n",
       "    }\n",
       "\n",
       "    .dataframe tbody tr th {\n",
       "        vertical-align: top;\n",
       "    }\n",
       "\n",
       "    .dataframe thead th {\n",
       "        text-align: right;\n",
       "    }\n",
       "</style>\n",
       "<table border=\"1\" class=\"dataframe\">\n",
       "  <thead>\n",
       "    <tr style=\"text-align: right;\">\n",
       "      <th></th>\n",
       "      <th>STATIONS_ID</th>\n",
       "      <th>QN_9</th>\n",
       "      <th>TT_TU</th>\n",
       "      <th>RF_TU</th>\n",
       "      <th>eor</th>\n",
       "    </tr>\n",
       "    <tr>\n",
       "      <th>MESS_DATUM</th>\n",
       "      <th></th>\n",
       "      <th></th>\n",
       "      <th></th>\n",
       "      <th></th>\n",
       "      <th></th>\n",
       "    </tr>\n",
       "  </thead>\n",
       "  <tbody>\n",
       "    <tr>\n",
       "      <th>2007040100</th>\n",
       "      <td>44</td>\n",
       "      <td>3</td>\n",
       "      <td>7.3</td>\n",
       "      <td>78.0</td>\n",
       "      <td>eor</td>\n",
       "    </tr>\n",
       "    <tr>\n",
       "      <th>2007040101</th>\n",
       "      <td>44</td>\n",
       "      <td>3</td>\n",
       "      <td>6.4</td>\n",
       "      <td>79.0</td>\n",
       "      <td>eor</td>\n",
       "    </tr>\n",
       "    <tr>\n",
       "      <th>2007040102</th>\n",
       "      <td>44</td>\n",
       "      <td>3</td>\n",
       "      <td>5.4</td>\n",
       "      <td>80.0</td>\n",
       "      <td>eor</td>\n",
       "    </tr>\n",
       "    <tr>\n",
       "      <th>2007040103</th>\n",
       "      <td>44</td>\n",
       "      <td>3</td>\n",
       "      <td>4.9</td>\n",
       "      <td>80.0</td>\n",
       "      <td>eor</td>\n",
       "    </tr>\n",
       "    <tr>\n",
       "      <th>2007040104</th>\n",
       "      <td>44</td>\n",
       "      <td>3</td>\n",
       "      <td>4.5</td>\n",
       "      <td>77.0</td>\n",
       "      <td>eor</td>\n",
       "    </tr>\n",
       "  </tbody>\n",
       "</table>\n",
       "</div>"
      ],
      "text/plain": [
       "            STATIONS_ID  QN_9  TT_TU  RF_TU  eor\n",
       "MESS_DATUM                                      \n",
       "2007040100           44     3    7.3   78.0  eor\n",
       "2007040101           44     3    6.4   79.0  eor\n",
       "2007040102           44     3    5.4   80.0  eor\n",
       "2007040103           44     3    4.9   80.0  eor\n",
       "2007040104           44     3    4.5   77.0  eor"
      ]
     },
     "execution_count": 29,
     "metadata": {},
     "output_type": "execute_result"
    }
   ],
   "source": [
    "dwd_data_44_2.head()"
   ]
  },
  {
   "cell_type": "markdown",
   "id": "a18e270e-0929-4296-915b-945711d3e738",
   "metadata": {},
   "source": [
    "### Set index afterwards\n",
    "\n",
    "Or we set the index columns afterwards"
   ]
  },
  {
   "cell_type": "code",
   "execution_count": 30,
   "id": "d9815cee-40ec-47d8-b02c-61f58883765a",
   "metadata": {},
   "outputs": [
    {
     "data": {
      "text/html": [
       "<div>\n",
       "<style scoped>\n",
       "    .dataframe tbody tr th:only-of-type {\n",
       "        vertical-align: middle;\n",
       "    }\n",
       "\n",
       "    .dataframe tbody tr th {\n",
       "        vertical-align: top;\n",
       "    }\n",
       "\n",
       "    .dataframe thead th {\n",
       "        text-align: right;\n",
       "    }\n",
       "</style>\n",
       "<table border=\"1\" class=\"dataframe\">\n",
       "  <thead>\n",
       "    <tr style=\"text-align: right;\">\n",
       "      <th></th>\n",
       "      <th>STATIONS_ID</th>\n",
       "      <th>QN_9</th>\n",
       "      <th>TT_TU</th>\n",
       "      <th>RF_TU</th>\n",
       "      <th>eor</th>\n",
       "    </tr>\n",
       "    <tr>\n",
       "      <th>MESS_DATUM</th>\n",
       "      <th></th>\n",
       "      <th></th>\n",
       "      <th></th>\n",
       "      <th></th>\n",
       "      <th></th>\n",
       "    </tr>\n",
       "  </thead>\n",
       "  <tbody>\n",
       "    <tr>\n",
       "      <th>2007040100</th>\n",
       "      <td>44</td>\n",
       "      <td>3</td>\n",
       "      <td>7.3</td>\n",
       "      <td>78.0</td>\n",
       "      <td>eor</td>\n",
       "    </tr>\n",
       "    <tr>\n",
       "      <th>2007040101</th>\n",
       "      <td>44</td>\n",
       "      <td>3</td>\n",
       "      <td>6.4</td>\n",
       "      <td>79.0</td>\n",
       "      <td>eor</td>\n",
       "    </tr>\n",
       "    <tr>\n",
       "      <th>2007040102</th>\n",
       "      <td>44</td>\n",
       "      <td>3</td>\n",
       "      <td>5.4</td>\n",
       "      <td>80.0</td>\n",
       "      <td>eor</td>\n",
       "    </tr>\n",
       "    <tr>\n",
       "      <th>2007040103</th>\n",
       "      <td>44</td>\n",
       "      <td>3</td>\n",
       "      <td>4.9</td>\n",
       "      <td>80.0</td>\n",
       "      <td>eor</td>\n",
       "    </tr>\n",
       "    <tr>\n",
       "      <th>2007040104</th>\n",
       "      <td>44</td>\n",
       "      <td>3</td>\n",
       "      <td>4.5</td>\n",
       "      <td>77.0</td>\n",
       "      <td>eor</td>\n",
       "    </tr>\n",
       "  </tbody>\n",
       "</table>\n",
       "</div>"
      ],
      "text/plain": [
       "            STATIONS_ID  QN_9  TT_TU  RF_TU  eor\n",
       "MESS_DATUM                                      \n",
       "2007040100           44     3    7.3   78.0  eor\n",
       "2007040101           44     3    6.4   79.0  eor\n",
       "2007040102           44     3    5.4   80.0  eor\n",
       "2007040103           44     3    4.9   80.0  eor\n",
       "2007040104           44     3    4.5   77.0  eor"
      ]
     },
     "execution_count": 30,
     "metadata": {},
     "output_type": "execute_result"
    }
   ],
   "source": [
    "dwd_data_44.set_index('MESS_DATUM').head()"
   ]
  },
  {
   "cell_type": "code",
   "execution_count": 31,
   "id": "dd02888c-295a-4b08-b434-380d9fbf64ca",
   "metadata": {},
   "outputs": [
    {
     "data": {
      "text/html": [
       "<div>\n",
       "<style scoped>\n",
       "    .dataframe tbody tr th:only-of-type {\n",
       "        vertical-align: middle;\n",
       "    }\n",
       "\n",
       "    .dataframe tbody tr th {\n",
       "        vertical-align: top;\n",
       "    }\n",
       "\n",
       "    .dataframe thead th {\n",
       "        text-align: right;\n",
       "    }\n",
       "</style>\n",
       "<table border=\"1\" class=\"dataframe\">\n",
       "  <thead>\n",
       "    <tr style=\"text-align: right;\">\n",
       "      <th></th>\n",
       "      <th>STATIONS_ID</th>\n",
       "      <th>MESS_DATUM</th>\n",
       "      <th>QN_9</th>\n",
       "      <th>TT_TU</th>\n",
       "      <th>RF_TU</th>\n",
       "      <th>eor</th>\n",
       "    </tr>\n",
       "  </thead>\n",
       "  <tbody>\n",
       "    <tr>\n",
       "      <th>0</th>\n",
       "      <td>44</td>\n",
       "      <td>2007040100</td>\n",
       "      <td>3</td>\n",
       "      <td>7.3</td>\n",
       "      <td>78.0</td>\n",
       "      <td>eor</td>\n",
       "    </tr>\n",
       "    <tr>\n",
       "      <th>1</th>\n",
       "      <td>44</td>\n",
       "      <td>2007040101</td>\n",
       "      <td>3</td>\n",
       "      <td>6.4</td>\n",
       "      <td>79.0</td>\n",
       "      <td>eor</td>\n",
       "    </tr>\n",
       "    <tr>\n",
       "      <th>2</th>\n",
       "      <td>44</td>\n",
       "      <td>2007040102</td>\n",
       "      <td>3</td>\n",
       "      <td>5.4</td>\n",
       "      <td>80.0</td>\n",
       "      <td>eor</td>\n",
       "    </tr>\n",
       "    <tr>\n",
       "      <th>3</th>\n",
       "      <td>44</td>\n",
       "      <td>2007040103</td>\n",
       "      <td>3</td>\n",
       "      <td>4.9</td>\n",
       "      <td>80.0</td>\n",
       "      <td>eor</td>\n",
       "    </tr>\n",
       "    <tr>\n",
       "      <th>4</th>\n",
       "      <td>44</td>\n",
       "      <td>2007040104</td>\n",
       "      <td>3</td>\n",
       "      <td>4.5</td>\n",
       "      <td>77.0</td>\n",
       "      <td>eor</td>\n",
       "    </tr>\n",
       "  </tbody>\n",
       "</table>\n",
       "</div>"
      ],
      "text/plain": [
       "   STATIONS_ID  MESS_DATUM  QN_9  TT_TU  RF_TU  eor\n",
       "0           44  2007040100     3    7.3   78.0  eor\n",
       "1           44  2007040101     3    6.4   79.0  eor\n",
       "2           44  2007040102     3    5.4   80.0  eor\n",
       "3           44  2007040103     3    4.9   80.0  eor\n",
       "4           44  2007040104     3    4.5   77.0  eor"
      ]
     },
     "execution_count": 31,
     "metadata": {},
     "output_type": "execute_result"
    }
   ],
   "source": [
    "dwd_data_44.head()"
   ]
  },
  {
   "cell_type": "markdown",
   "id": "3b2680e8-b26d-4d22-8585-1a28d083a39c",
   "metadata": {},
   "source": [
    "You see that it has not changed the dataframe forever, it only changed in temporaly. Can we change this? Yes!"
   ]
  },
  {
   "cell_type": "code",
   "execution_count": 32,
   "id": "38fdac1d-3097-440b-a246-6d4974d99f18",
   "metadata": {},
   "outputs": [],
   "source": [
    "dwd_data_44.set_index('MESS_DATUM', inplace=True)"
   ]
  },
  {
   "cell_type": "code",
   "execution_count": 33,
   "id": "99391d1a-36fb-46de-bf6b-9f5d15055c18",
   "metadata": {},
   "outputs": [
    {
     "data": {
      "text/html": [
       "<div>\n",
       "<style scoped>\n",
       "    .dataframe tbody tr th:only-of-type {\n",
       "        vertical-align: middle;\n",
       "    }\n",
       "\n",
       "    .dataframe tbody tr th {\n",
       "        vertical-align: top;\n",
       "    }\n",
       "\n",
       "    .dataframe thead th {\n",
       "        text-align: right;\n",
       "    }\n",
       "</style>\n",
       "<table border=\"1\" class=\"dataframe\">\n",
       "  <thead>\n",
       "    <tr style=\"text-align: right;\">\n",
       "      <th></th>\n",
       "      <th>STATIONS_ID</th>\n",
       "      <th>QN_9</th>\n",
       "      <th>TT_TU</th>\n",
       "      <th>RF_TU</th>\n",
       "      <th>eor</th>\n",
       "    </tr>\n",
       "    <tr>\n",
       "      <th>MESS_DATUM</th>\n",
       "      <th></th>\n",
       "      <th></th>\n",
       "      <th></th>\n",
       "      <th></th>\n",
       "      <th></th>\n",
       "    </tr>\n",
       "  </thead>\n",
       "  <tbody>\n",
       "    <tr>\n",
       "      <th>2007040100</th>\n",
       "      <td>44</td>\n",
       "      <td>3</td>\n",
       "      <td>7.3</td>\n",
       "      <td>78.0</td>\n",
       "      <td>eor</td>\n",
       "    </tr>\n",
       "    <tr>\n",
       "      <th>2007040101</th>\n",
       "      <td>44</td>\n",
       "      <td>3</td>\n",
       "      <td>6.4</td>\n",
       "      <td>79.0</td>\n",
       "      <td>eor</td>\n",
       "    </tr>\n",
       "    <tr>\n",
       "      <th>2007040102</th>\n",
       "      <td>44</td>\n",
       "      <td>3</td>\n",
       "      <td>5.4</td>\n",
       "      <td>80.0</td>\n",
       "      <td>eor</td>\n",
       "    </tr>\n",
       "    <tr>\n",
       "      <th>2007040103</th>\n",
       "      <td>44</td>\n",
       "      <td>3</td>\n",
       "      <td>4.9</td>\n",
       "      <td>80.0</td>\n",
       "      <td>eor</td>\n",
       "    </tr>\n",
       "    <tr>\n",
       "      <th>2007040104</th>\n",
       "      <td>44</td>\n",
       "      <td>3</td>\n",
       "      <td>4.5</td>\n",
       "      <td>77.0</td>\n",
       "      <td>eor</td>\n",
       "    </tr>\n",
       "  </tbody>\n",
       "</table>\n",
       "</div>"
      ],
      "text/plain": [
       "            STATIONS_ID  QN_9  TT_TU  RF_TU  eor\n",
       "MESS_DATUM                                      \n",
       "2007040100           44     3    7.3   78.0  eor\n",
       "2007040101           44     3    6.4   79.0  eor\n",
       "2007040102           44     3    5.4   80.0  eor\n",
       "2007040103           44     3    4.9   80.0  eor\n",
       "2007040104           44     3    4.5   77.0  eor"
      ]
     },
     "execution_count": 33,
     "metadata": {},
     "output_type": "execute_result"
    }
   ],
   "source": [
    "dwd_data_44.head()"
   ]
  },
  {
   "cell_type": "markdown",
   "id": "d72c59b6-4586-4ebd-a0e9-91c7606ef061",
   "metadata": {},
   "source": [
    "## Index"
   ]
  },
  {
   "cell_type": "code",
   "execution_count": 38,
   "id": "7f328672-03a9-44e4-9930-d67c169a63a5",
   "metadata": {},
   "outputs": [
    {
     "ename": "KeyError",
     "evalue": "'MESS_DATUM'",
     "output_type": "error",
     "traceback": [
      "\u001b[0;31m---------------------------------------------------------------------------\u001b[0m",
      "\u001b[0;31mKeyError\u001b[0m                                  Traceback (most recent call last)",
      "File \u001b[0;32m/home/jupyterhub/conda/envs/jupyter2022/lib/python3.9/site-packages/pandas/core/indexes/base.py:3800\u001b[0m, in \u001b[0;36mIndex.get_loc\u001b[0;34m(self, key, method, tolerance)\u001b[0m\n\u001b[1;32m   3799\u001b[0m \u001b[38;5;28;01mtry\u001b[39;00m:\n\u001b[0;32m-> 3800\u001b[0m     \u001b[38;5;28;01mreturn\u001b[39;00m \u001b[38;5;28;43mself\u001b[39;49m\u001b[38;5;241;43m.\u001b[39;49m\u001b[43m_engine\u001b[49m\u001b[38;5;241;43m.\u001b[39;49m\u001b[43mget_loc\u001b[49m\u001b[43m(\u001b[49m\u001b[43mcasted_key\u001b[49m\u001b[43m)\u001b[49m\n\u001b[1;32m   3801\u001b[0m \u001b[38;5;28;01mexcept\u001b[39;00m \u001b[38;5;167;01mKeyError\u001b[39;00m \u001b[38;5;28;01mas\u001b[39;00m err:\n",
      "File \u001b[0;32m/home/jupyterhub/conda/envs/jupyter2022/lib/python3.9/site-packages/pandas/_libs/index.pyx:138\u001b[0m, in \u001b[0;36mpandas._libs.index.IndexEngine.get_loc\u001b[0;34m()\u001b[0m\n",
      "File \u001b[0;32m/home/jupyterhub/conda/envs/jupyter2022/lib/python3.9/site-packages/pandas/_libs/index.pyx:165\u001b[0m, in \u001b[0;36mpandas._libs.index.IndexEngine.get_loc\u001b[0;34m()\u001b[0m\n",
      "File \u001b[0;32mpandas/_libs/hashtable_class_helper.pxi:5745\u001b[0m, in \u001b[0;36mpandas._libs.hashtable.PyObjectHashTable.get_item\u001b[0;34m()\u001b[0m\n",
      "File \u001b[0;32mpandas/_libs/hashtable_class_helper.pxi:5753\u001b[0m, in \u001b[0;36mpandas._libs.hashtable.PyObjectHashTable.get_item\u001b[0;34m()\u001b[0m\n",
      "\u001b[0;31mKeyError\u001b[0m: 'MESS_DATUM'",
      "\nThe above exception was the direct cause of the following exception:\n",
      "\u001b[0;31mKeyError\u001b[0m                                  Traceback (most recent call last)",
      "Cell \u001b[0;32mIn [38], line 1\u001b[0m\n\u001b[0;32m----> 1\u001b[0m dwd_data_44[\u001b[38;5;124m'\u001b[39m\u001b[38;5;124mMESS_DATUM\u001b[39m\u001b[38;5;124m'\u001b[39m]\n",
      "File \u001b[0;32m/home/jupyterhub/conda/envs/jupyter2022/lib/python3.9/site-packages/pandas/core/frame.py:3805\u001b[0m, in \u001b[0;36mDataFrame.__getitem__\u001b[0;34m(self, key)\u001b[0m\n\u001b[1;32m   3803\u001b[0m \u001b[38;5;28;01mif\u001b[39;00m \u001b[38;5;28mself\u001b[39m\u001b[38;5;241m.\u001b[39mcolumns\u001b[38;5;241m.\u001b[39mnlevels \u001b[38;5;241m>\u001b[39m \u001b[38;5;241m1\u001b[39m:\n\u001b[1;32m   3804\u001b[0m     \u001b[38;5;28;01mreturn\u001b[39;00m \u001b[38;5;28mself\u001b[39m\u001b[38;5;241m.\u001b[39m_getitem_multilevel(key)\n\u001b[0;32m-> 3805\u001b[0m indexer \u001b[38;5;241m=\u001b[39m \u001b[38;5;28;43mself\u001b[39;49m\u001b[38;5;241;43m.\u001b[39;49m\u001b[43mcolumns\u001b[49m\u001b[38;5;241;43m.\u001b[39;49m\u001b[43mget_loc\u001b[49m\u001b[43m(\u001b[49m\u001b[43mkey\u001b[49m\u001b[43m)\u001b[49m\n\u001b[1;32m   3806\u001b[0m \u001b[38;5;28;01mif\u001b[39;00m is_integer(indexer):\n\u001b[1;32m   3807\u001b[0m     indexer \u001b[38;5;241m=\u001b[39m [indexer]\n",
      "File \u001b[0;32m/home/jupyterhub/conda/envs/jupyter2022/lib/python3.9/site-packages/pandas/core/indexes/base.py:3802\u001b[0m, in \u001b[0;36mIndex.get_loc\u001b[0;34m(self, key, method, tolerance)\u001b[0m\n\u001b[1;32m   3800\u001b[0m     \u001b[38;5;28;01mreturn\u001b[39;00m \u001b[38;5;28mself\u001b[39m\u001b[38;5;241m.\u001b[39m_engine\u001b[38;5;241m.\u001b[39mget_loc(casted_key)\n\u001b[1;32m   3801\u001b[0m \u001b[38;5;28;01mexcept\u001b[39;00m \u001b[38;5;167;01mKeyError\u001b[39;00m \u001b[38;5;28;01mas\u001b[39;00m err:\n\u001b[0;32m-> 3802\u001b[0m     \u001b[38;5;28;01mraise\u001b[39;00m \u001b[38;5;167;01mKeyError\u001b[39;00m(key) \u001b[38;5;28;01mfrom\u001b[39;00m \u001b[38;5;21;01merr\u001b[39;00m\n\u001b[1;32m   3803\u001b[0m \u001b[38;5;28;01mexcept\u001b[39;00m \u001b[38;5;167;01mTypeError\u001b[39;00m:\n\u001b[1;32m   3804\u001b[0m     \u001b[38;5;66;03m# If we have a listlike key, _check_indexing_error will raise\u001b[39;00m\n\u001b[1;32m   3805\u001b[0m     \u001b[38;5;66;03m#  InvalidIndexError. Otherwise we fall through and re-raise\u001b[39;00m\n\u001b[1;32m   3806\u001b[0m     \u001b[38;5;66;03m#  the TypeError.\u001b[39;00m\n\u001b[1;32m   3807\u001b[0m     \u001b[38;5;28mself\u001b[39m\u001b[38;5;241m.\u001b[39m_check_indexing_error(key)\n",
      "\u001b[0;31mKeyError\u001b[0m: 'MESS_DATUM'"
     ]
    }
   ],
   "source": [
    "dwd_data_44['MESS_DATUM']"
   ]
  },
  {
   "cell_type": "markdown",
   "id": "186c5c64-a69c-4449-b148-49173296f929",
   "metadata": {},
   "source": [
    "The index column can not be acessed by its name like we did for the other columns, here we just use .index:"
   ]
  },
  {
   "cell_type": "code",
   "execution_count": 39,
   "id": "ed80d44b-207a-48c2-926b-73b932d3658c",
   "metadata": {},
   "outputs": [
    {
     "data": {
      "text/plain": [
       "Int64Index([2007040100, 2007040101, 2007040102, 2007040103, 2007040104,\n",
       "            2007040105, 2007040106, 2007040107, 2007040108, 2007040109,\n",
       "            ...\n",
       "            2020123114, 2020123115, 2020123116, 2020123117, 2020123118,\n",
       "            2020123119, 2020123120, 2020123121, 2020123122, 2020123123],\n",
       "           dtype='int64', name='MESS_DATUM', length=119787)"
      ]
     },
     "execution_count": 39,
     "metadata": {},
     "output_type": "execute_result"
    }
   ],
   "source": [
    "dwd_data_44.index"
   ]
  },
  {
   "cell_type": "markdown",
   "id": "a5ec9ff8-e8cd-4658-9701-0db6108cbd1c",
   "metadata": {},
   "source": [
    "Now we have the time as index, but it looks a bit strange, not like a real timestamp, and we see in the 'dytpe' above, that the numbers are interpreted as integers. \\\n",
    "Let's change that in the next step."
   ]
  },
  {
   "cell_type": "markdown",
   "id": "66d9e840-b79d-4eff-9a86-72acb3ffe75f",
   "metadata": {},
   "source": [
    "## Dates\n",
    "\n",
    "Making pandas interpret a column as dates can be also done directly while reading, we add now a new argument parse_date to the reading function, to tell python to parse this specific column(s) to datetime objects"
   ]
  },
  {
   "cell_type": "code",
   "execution_count": 41,
   "id": "7e004e9a-fd9a-4f43-8906-ab213d22da15",
   "metadata": {},
   "outputs": [],
   "source": [
    "dwd_44_date = pd.read_csv('/data/ammda/2021/stundenwerte_TU_00044_20070401_20201231_hist/produkt_tu_stunde_20070401_20201231_00044.txt',\n",
    "                           sep=';', index_col=['MESS_DATUM'], parse_dates=['MESS_DATUM'])"
   ]
  },
  {
   "cell_type": "code",
   "execution_count": 42,
   "id": "9f90de0f-eb19-4721-b089-89df0728b1f2",
   "metadata": {},
   "outputs": [
    {
     "data": {
      "text/html": [
       "<div>\n",
       "<style scoped>\n",
       "    .dataframe tbody tr th:only-of-type {\n",
       "        vertical-align: middle;\n",
       "    }\n",
       "\n",
       "    .dataframe tbody tr th {\n",
       "        vertical-align: top;\n",
       "    }\n",
       "\n",
       "    .dataframe thead th {\n",
       "        text-align: right;\n",
       "    }\n",
       "</style>\n",
       "<table border=\"1\" class=\"dataframe\">\n",
       "  <thead>\n",
       "    <tr style=\"text-align: right;\">\n",
       "      <th></th>\n",
       "      <th>STATIONS_ID</th>\n",
       "      <th>QN_9</th>\n",
       "      <th>TT_TU</th>\n",
       "      <th>RF_TU</th>\n",
       "      <th>eor</th>\n",
       "    </tr>\n",
       "    <tr>\n",
       "      <th>MESS_DATUM</th>\n",
       "      <th></th>\n",
       "      <th></th>\n",
       "      <th></th>\n",
       "      <th></th>\n",
       "      <th></th>\n",
       "    </tr>\n",
       "  </thead>\n",
       "  <tbody>\n",
       "    <tr>\n",
       "      <th>2007040100</th>\n",
       "      <td>44</td>\n",
       "      <td>3</td>\n",
       "      <td>7.3</td>\n",
       "      <td>78.0</td>\n",
       "      <td>eor</td>\n",
       "    </tr>\n",
       "    <tr>\n",
       "      <th>2007040101</th>\n",
       "      <td>44</td>\n",
       "      <td>3</td>\n",
       "      <td>6.4</td>\n",
       "      <td>79.0</td>\n",
       "      <td>eor</td>\n",
       "    </tr>\n",
       "    <tr>\n",
       "      <th>2007040102</th>\n",
       "      <td>44</td>\n",
       "      <td>3</td>\n",
       "      <td>5.4</td>\n",
       "      <td>80.0</td>\n",
       "      <td>eor</td>\n",
       "    </tr>\n",
       "    <tr>\n",
       "      <th>2007040103</th>\n",
       "      <td>44</td>\n",
       "      <td>3</td>\n",
       "      <td>4.9</td>\n",
       "      <td>80.0</td>\n",
       "      <td>eor</td>\n",
       "    </tr>\n",
       "    <tr>\n",
       "      <th>2007040104</th>\n",
       "      <td>44</td>\n",
       "      <td>3</td>\n",
       "      <td>4.5</td>\n",
       "      <td>77.0</td>\n",
       "      <td>eor</td>\n",
       "    </tr>\n",
       "  </tbody>\n",
       "</table>\n",
       "</div>"
      ],
      "text/plain": [
       "            STATIONS_ID  QN_9  TT_TU  RF_TU  eor\n",
       "MESS_DATUM                                      \n",
       "2007040100           44     3    7.3   78.0  eor\n",
       "2007040101           44     3    6.4   79.0  eor\n",
       "2007040102           44     3    5.4   80.0  eor\n",
       "2007040103           44     3    4.9   80.0  eor\n",
       "2007040104           44     3    4.5   77.0  eor"
      ]
     },
     "execution_count": 42,
     "metadata": {},
     "output_type": "execute_result"
    }
   ],
   "source": [
    "dwd_44_date.head()"
   ]
  },
  {
   "cell_type": "code",
   "execution_count": 43,
   "id": "b9b04053-b9c2-4c00-af9e-e0741fb47b54",
   "metadata": {},
   "outputs": [
    {
     "data": {
      "text/plain": [
       "Int64Index([2007040100, 2007040101, 2007040102, 2007040103, 2007040104,\n",
       "            2007040105, 2007040106, 2007040107, 2007040108, 2007040109,\n",
       "            ...\n",
       "            2020123114, 2020123115, 2020123116, 2020123117, 2020123118,\n",
       "            2020123119, 2020123120, 2020123121, 2020123122, 2020123123],\n",
       "           dtype='int64', name='MESS_DATUM', length=119787)"
      ]
     },
     "execution_count": 43,
     "metadata": {},
     "output_type": "execute_result"
    }
   ],
   "source": [
    "dwd_44_date.index"
   ]
  },
  {
   "cell_type": "markdown",
   "id": "46b1b0d3-94bc-4b77-8bba-e645b861190f",
   "metadata": {},
   "source": [
    "Unfortunatly in this case, pandas is not able to parse this directly into a datetime object, since it does not now how to interpret this numbers. \\\n",
    "If this happend we can always pass them manually:"
   ]
  },
  {
   "cell_type": "code",
   "execution_count": 44,
   "id": "2ffcc32d-64b3-4c18-9473-0a03b2cac18b",
   "metadata": {},
   "outputs": [],
   "source": [
    "dates = pd.to_datetime(dwd_44_date.index, format = '%Y%m%d%H')"
   ]
  },
  {
   "cell_type": "code",
   "execution_count": 45,
   "id": "1e0cb0f1-548c-45f9-a9fd-7ce6e745c364",
   "metadata": {},
   "outputs": [
    {
     "data": {
      "text/plain": [
       "DatetimeIndex(['2007-04-01 00:00:00', '2007-04-01 01:00:00',\n",
       "               '2007-04-01 02:00:00', '2007-04-01 03:00:00',\n",
       "               '2007-04-01 04:00:00', '2007-04-01 05:00:00',\n",
       "               '2007-04-01 06:00:00', '2007-04-01 07:00:00',\n",
       "               '2007-04-01 08:00:00', '2007-04-01 09:00:00',\n",
       "               ...\n",
       "               '2020-12-31 14:00:00', '2020-12-31 15:00:00',\n",
       "               '2020-12-31 16:00:00', '2020-12-31 17:00:00',\n",
       "               '2020-12-31 18:00:00', '2020-12-31 19:00:00',\n",
       "               '2020-12-31 20:00:00', '2020-12-31 21:00:00',\n",
       "               '2020-12-31 22:00:00', '2020-12-31 23:00:00'],\n",
       "              dtype='datetime64[ns]', name='MESS_DATUM', length=119787, freq=None)"
      ]
     },
     "execution_count": 45,
     "metadata": {},
     "output_type": "execute_result"
    }
   ],
   "source": [
    "dates"
   ]
  },
  {
   "cell_type": "markdown",
   "id": "be4929b2-9812-40a3-ae84-c506e810ab1c",
   "metadata": {},
   "source": [
    "## Add new columns"
   ]
  },
  {
   "cell_type": "code",
   "execution_count": 46,
   "id": "e0461104-9568-4079-a792-e7bec21bce77",
   "metadata": {},
   "outputs": [],
   "source": [
    "dwd_44_date['TIME'] = dates"
   ]
  },
  {
   "cell_type": "code",
   "execution_count": 48,
   "id": "96006e31-6ac4-4281-b3c8-370ba0dc933d",
   "metadata": {},
   "outputs": [
    {
     "data": {
      "text/html": [
       "<div>\n",
       "<style scoped>\n",
       "    .dataframe tbody tr th:only-of-type {\n",
       "        vertical-align: middle;\n",
       "    }\n",
       "\n",
       "    .dataframe tbody tr th {\n",
       "        vertical-align: top;\n",
       "    }\n",
       "\n",
       "    .dataframe thead th {\n",
       "        text-align: right;\n",
       "    }\n",
       "</style>\n",
       "<table border=\"1\" class=\"dataframe\">\n",
       "  <thead>\n",
       "    <tr style=\"text-align: right;\">\n",
       "      <th></th>\n",
       "      <th>STATIONS_ID</th>\n",
       "      <th>QN_9</th>\n",
       "      <th>TT_TU</th>\n",
       "      <th>RF_TU</th>\n",
       "      <th>eor</th>\n",
       "      <th>TIME</th>\n",
       "    </tr>\n",
       "    <tr>\n",
       "      <th>MESS_DATUM</th>\n",
       "      <th></th>\n",
       "      <th></th>\n",
       "      <th></th>\n",
       "      <th></th>\n",
       "      <th></th>\n",
       "      <th></th>\n",
       "    </tr>\n",
       "  </thead>\n",
       "  <tbody>\n",
       "    <tr>\n",
       "      <th>2007040100</th>\n",
       "      <td>44</td>\n",
       "      <td>3</td>\n",
       "      <td>7.3</td>\n",
       "      <td>78.0</td>\n",
       "      <td>eor</td>\n",
       "      <td>2007-04-01 00:00:00</td>\n",
       "    </tr>\n",
       "    <tr>\n",
       "      <th>2007040101</th>\n",
       "      <td>44</td>\n",
       "      <td>3</td>\n",
       "      <td>6.4</td>\n",
       "      <td>79.0</td>\n",
       "      <td>eor</td>\n",
       "      <td>2007-04-01 01:00:00</td>\n",
       "    </tr>\n",
       "    <tr>\n",
       "      <th>2007040102</th>\n",
       "      <td>44</td>\n",
       "      <td>3</td>\n",
       "      <td>5.4</td>\n",
       "      <td>80.0</td>\n",
       "      <td>eor</td>\n",
       "      <td>2007-04-01 02:00:00</td>\n",
       "    </tr>\n",
       "    <tr>\n",
       "      <th>2007040103</th>\n",
       "      <td>44</td>\n",
       "      <td>3</td>\n",
       "      <td>4.9</td>\n",
       "      <td>80.0</td>\n",
       "      <td>eor</td>\n",
       "      <td>2007-04-01 03:00:00</td>\n",
       "    </tr>\n",
       "    <tr>\n",
       "      <th>2007040104</th>\n",
       "      <td>44</td>\n",
       "      <td>3</td>\n",
       "      <td>4.5</td>\n",
       "      <td>77.0</td>\n",
       "      <td>eor</td>\n",
       "      <td>2007-04-01 04:00:00</td>\n",
       "    </tr>\n",
       "  </tbody>\n",
       "</table>\n",
       "</div>"
      ],
      "text/plain": [
       "            STATIONS_ID  QN_9  TT_TU  RF_TU  eor                TIME\n",
       "MESS_DATUM                                                          \n",
       "2007040100           44     3    7.3   78.0  eor 2007-04-01 00:00:00\n",
       "2007040101           44     3    6.4   79.0  eor 2007-04-01 01:00:00\n",
       "2007040102           44     3    5.4   80.0  eor 2007-04-01 02:00:00\n",
       "2007040103           44     3    4.9   80.0  eor 2007-04-01 03:00:00\n",
       "2007040104           44     3    4.5   77.0  eor 2007-04-01 04:00:00"
      ]
     },
     "execution_count": 48,
     "metadata": {},
     "output_type": "execute_result"
    }
   ],
   "source": [
    "dwd_44_date.head()"
   ]
  },
  {
   "cell_type": "markdown",
   "id": "507265e3-f9b3-4a47-84e0-8f57324114fa",
   "metadata": {},
   "source": [
    "We assign a new column (like indexing a column with a non-existing name) to some data, called dates. \\\n",
    "Of course you could also combine this into a single line and replace the 'dates' directly with the line pd.to_datetime(dwd_44_date.index, format='%Y%m%d%H')"
   ]
  },
  {
   "cell_type": "code",
   "execution_count": 51,
   "id": "7cd9a528-27cb-4adf-85d6-9e35c5d64a1c",
   "metadata": {},
   "outputs": [],
   "source": [
    "dwd_44_date['TIME'] = pd.to_datetime(dwd_44_date.index, format = '%Y%m%d%H')"
   ]
  },
  {
   "cell_type": "code",
   "execution_count": 53,
   "id": "937e847e-1940-478f-93a9-d48dbe7b0c34",
   "metadata": {},
   "outputs": [
    {
     "data": {
      "text/html": [
       "<div>\n",
       "<style scoped>\n",
       "    .dataframe tbody tr th:only-of-type {\n",
       "        vertical-align: middle;\n",
       "    }\n",
       "\n",
       "    .dataframe tbody tr th {\n",
       "        vertical-align: top;\n",
       "    }\n",
       "\n",
       "    .dataframe thead th {\n",
       "        text-align: right;\n",
       "    }\n",
       "</style>\n",
       "<table border=\"1\" class=\"dataframe\">\n",
       "  <thead>\n",
       "    <tr style=\"text-align: right;\">\n",
       "      <th></th>\n",
       "      <th>STATIONS_ID</th>\n",
       "      <th>QN_9</th>\n",
       "      <th>TT_TU</th>\n",
       "      <th>RF_TU</th>\n",
       "      <th>eor</th>\n",
       "      <th>TIME</th>\n",
       "    </tr>\n",
       "    <tr>\n",
       "      <th>MESS_DATUM</th>\n",
       "      <th></th>\n",
       "      <th></th>\n",
       "      <th></th>\n",
       "      <th></th>\n",
       "      <th></th>\n",
       "      <th></th>\n",
       "    </tr>\n",
       "  </thead>\n",
       "  <tbody>\n",
       "    <tr>\n",
       "      <th>2007040100</th>\n",
       "      <td>44</td>\n",
       "      <td>3</td>\n",
       "      <td>7.3</td>\n",
       "      <td>78.0</td>\n",
       "      <td>eor</td>\n",
       "      <td>2007-04-01 00:00:00</td>\n",
       "    </tr>\n",
       "    <tr>\n",
       "      <th>2007040101</th>\n",
       "      <td>44</td>\n",
       "      <td>3</td>\n",
       "      <td>6.4</td>\n",
       "      <td>79.0</td>\n",
       "      <td>eor</td>\n",
       "      <td>2007-04-01 01:00:00</td>\n",
       "    </tr>\n",
       "    <tr>\n",
       "      <th>2007040102</th>\n",
       "      <td>44</td>\n",
       "      <td>3</td>\n",
       "      <td>5.4</td>\n",
       "      <td>80.0</td>\n",
       "      <td>eor</td>\n",
       "      <td>2007-04-01 02:00:00</td>\n",
       "    </tr>\n",
       "    <tr>\n",
       "      <th>2007040103</th>\n",
       "      <td>44</td>\n",
       "      <td>3</td>\n",
       "      <td>4.9</td>\n",
       "      <td>80.0</td>\n",
       "      <td>eor</td>\n",
       "      <td>2007-04-01 03:00:00</td>\n",
       "    </tr>\n",
       "    <tr>\n",
       "      <th>2007040104</th>\n",
       "      <td>44</td>\n",
       "      <td>3</td>\n",
       "      <td>4.5</td>\n",
       "      <td>77.0</td>\n",
       "      <td>eor</td>\n",
       "      <td>2007-04-01 04:00:00</td>\n",
       "    </tr>\n",
       "  </tbody>\n",
       "</table>\n",
       "</div>"
      ],
      "text/plain": [
       "            STATIONS_ID  QN_9  TT_TU  RF_TU  eor                TIME\n",
       "MESS_DATUM                                                          \n",
       "2007040100           44     3    7.3   78.0  eor 2007-04-01 00:00:00\n",
       "2007040101           44     3    6.4   79.0  eor 2007-04-01 01:00:00\n",
       "2007040102           44     3    5.4   80.0  eor 2007-04-01 02:00:00\n",
       "2007040103           44     3    4.9   80.0  eor 2007-04-01 03:00:00\n",
       "2007040104           44     3    4.5   77.0  eor 2007-04-01 04:00:00"
      ]
     },
     "execution_count": 53,
     "metadata": {},
     "output_type": "execute_result"
    }
   ],
   "source": [
    "dwd_44_date.head()"
   ]
  },
  {
   "cell_type": "code",
   "execution_count": 54,
   "id": "b93adcd0-6089-4a76-8a3a-adde61eb01c8",
   "metadata": {},
   "outputs": [],
   "source": [
    "dwd_44_date.set_index('TIME', inplace = True) # setting the new column as new index"
   ]
  },
  {
   "cell_type": "code",
   "execution_count": 56,
   "id": "ad7a916a-fed6-4efe-9b5a-210a3f407dd9",
   "metadata": {},
   "outputs": [
    {
     "data": {
      "text/html": [
       "<div>\n",
       "<style scoped>\n",
       "    .dataframe tbody tr th:only-of-type {\n",
       "        vertical-align: middle;\n",
       "    }\n",
       "\n",
       "    .dataframe tbody tr th {\n",
       "        vertical-align: top;\n",
       "    }\n",
       "\n",
       "    .dataframe thead th {\n",
       "        text-align: right;\n",
       "    }\n",
       "</style>\n",
       "<table border=\"1\" class=\"dataframe\">\n",
       "  <thead>\n",
       "    <tr style=\"text-align: right;\">\n",
       "      <th></th>\n",
       "      <th>STATIONS_ID</th>\n",
       "      <th>QN_9</th>\n",
       "      <th>TT_TU</th>\n",
       "      <th>RF_TU</th>\n",
       "      <th>eor</th>\n",
       "    </tr>\n",
       "    <tr>\n",
       "      <th>TIME</th>\n",
       "      <th></th>\n",
       "      <th></th>\n",
       "      <th></th>\n",
       "      <th></th>\n",
       "      <th></th>\n",
       "    </tr>\n",
       "  </thead>\n",
       "  <tbody>\n",
       "    <tr>\n",
       "      <th>2007-04-01 00:00:00</th>\n",
       "      <td>44</td>\n",
       "      <td>3</td>\n",
       "      <td>7.3</td>\n",
       "      <td>78.0</td>\n",
       "      <td>eor</td>\n",
       "    </tr>\n",
       "    <tr>\n",
       "      <th>2007-04-01 01:00:00</th>\n",
       "      <td>44</td>\n",
       "      <td>3</td>\n",
       "      <td>6.4</td>\n",
       "      <td>79.0</td>\n",
       "      <td>eor</td>\n",
       "    </tr>\n",
       "    <tr>\n",
       "      <th>2007-04-01 02:00:00</th>\n",
       "      <td>44</td>\n",
       "      <td>3</td>\n",
       "      <td>5.4</td>\n",
       "      <td>80.0</td>\n",
       "      <td>eor</td>\n",
       "    </tr>\n",
       "    <tr>\n",
       "      <th>2007-04-01 03:00:00</th>\n",
       "      <td>44</td>\n",
       "      <td>3</td>\n",
       "      <td>4.9</td>\n",
       "      <td>80.0</td>\n",
       "      <td>eor</td>\n",
       "    </tr>\n",
       "    <tr>\n",
       "      <th>2007-04-01 04:00:00</th>\n",
       "      <td>44</td>\n",
       "      <td>3</td>\n",
       "      <td>4.5</td>\n",
       "      <td>77.0</td>\n",
       "      <td>eor</td>\n",
       "    </tr>\n",
       "  </tbody>\n",
       "</table>\n",
       "</div>"
      ],
      "text/plain": [
       "                     STATIONS_ID  QN_9  TT_TU  RF_TU  eor\n",
       "TIME                                                     \n",
       "2007-04-01 00:00:00           44     3    7.3   78.0  eor\n",
       "2007-04-01 01:00:00           44     3    6.4   79.0  eor\n",
       "2007-04-01 02:00:00           44     3    5.4   80.0  eor\n",
       "2007-04-01 03:00:00           44     3    4.9   80.0  eor\n",
       "2007-04-01 04:00:00           44     3    4.5   77.0  eor"
      ]
     },
     "execution_count": 56,
     "metadata": {},
     "output_type": "execute_result"
    }
   ],
   "source": [
    "dwd_44_date.head()"
   ]
  },
  {
   "cell_type": "markdown",
   "id": "6fd81569-68af-4fe8-b5e9-f44b5d0fa584",
   "metadata": {},
   "source": [
    "## Drop columns\n",
    "\n",
    "We can not only add column, we can also drop them of course, let's get rid of the columns QN_9 and eor for now, since we will not deal with them today."
   ]
  },
  {
   "cell_type": "code",
   "execution_count": 59,
   "id": "b9a58693-bb89-4091-92a7-d5ac06129f16",
   "metadata": {},
   "outputs": [],
   "source": [
    "dwd_44_date.drop(['QN_9', 'eor'], axis = 1, inplace = True)"
   ]
  },
  {
   "cell_type": "code",
   "execution_count": 60,
   "id": "186c3161-b686-4e29-a40e-a4c9687910a0",
   "metadata": {},
   "outputs": [
    {
     "data": {
      "text/html": [
       "<div>\n",
       "<style scoped>\n",
       "    .dataframe tbody tr th:only-of-type {\n",
       "        vertical-align: middle;\n",
       "    }\n",
       "\n",
       "    .dataframe tbody tr th {\n",
       "        vertical-align: top;\n",
       "    }\n",
       "\n",
       "    .dataframe thead th {\n",
       "        text-align: right;\n",
       "    }\n",
       "</style>\n",
       "<table border=\"1\" class=\"dataframe\">\n",
       "  <thead>\n",
       "    <tr style=\"text-align: right;\">\n",
       "      <th></th>\n",
       "      <th>STATIONS_ID</th>\n",
       "      <th>TT_TU</th>\n",
       "      <th>RF_TU</th>\n",
       "    </tr>\n",
       "    <tr>\n",
       "      <th>TIME</th>\n",
       "      <th></th>\n",
       "      <th></th>\n",
       "      <th></th>\n",
       "    </tr>\n",
       "  </thead>\n",
       "  <tbody>\n",
       "    <tr>\n",
       "      <th>2007-04-01 00:00:00</th>\n",
       "      <td>44</td>\n",
       "      <td>7.3</td>\n",
       "      <td>78.0</td>\n",
       "    </tr>\n",
       "    <tr>\n",
       "      <th>2007-04-01 01:00:00</th>\n",
       "      <td>44</td>\n",
       "      <td>6.4</td>\n",
       "      <td>79.0</td>\n",
       "    </tr>\n",
       "    <tr>\n",
       "      <th>2007-04-01 02:00:00</th>\n",
       "      <td>44</td>\n",
       "      <td>5.4</td>\n",
       "      <td>80.0</td>\n",
       "    </tr>\n",
       "    <tr>\n",
       "      <th>2007-04-01 03:00:00</th>\n",
       "      <td>44</td>\n",
       "      <td>4.9</td>\n",
       "      <td>80.0</td>\n",
       "    </tr>\n",
       "    <tr>\n",
       "      <th>2007-04-01 04:00:00</th>\n",
       "      <td>44</td>\n",
       "      <td>4.5</td>\n",
       "      <td>77.0</td>\n",
       "    </tr>\n",
       "  </tbody>\n",
       "</table>\n",
       "</div>"
      ],
      "text/plain": [
       "                     STATIONS_ID  TT_TU  RF_TU\n",
       "TIME                                          \n",
       "2007-04-01 00:00:00           44    7.3   78.0\n",
       "2007-04-01 01:00:00           44    6.4   79.0\n",
       "2007-04-01 02:00:00           44    5.4   80.0\n",
       "2007-04-01 03:00:00           44    4.9   80.0\n",
       "2007-04-01 04:00:00           44    4.5   77.0"
      ]
     },
     "execution_count": 60,
     "metadata": {},
     "output_type": "execute_result"
    }
   ],
   "source": [
    "dwd_44_date.head()"
   ]
  },
  {
   "cell_type": "markdown",
   "id": "3842337b-fa3d-4175-8673-4c7eec0cd1b2",
   "metadata": {},
   "source": [
    "the axis=1 says that it should drop columns not rows, which would be done by default and by using axis=0 \\\n",
    "and do not forget the inplace here"
   ]
  },
  {
   "cell_type": "markdown",
   "id": "33825a57-6641-427d-bdce-047924a0e75d",
   "metadata": {},
   "source": [
    "## Renaming columns\n",
    "We now have a clean dataframe with no not needed colmns, but it would be nice to have better names for the columns, right?"
   ]
  },
  {
   "cell_type": "code",
   "execution_count": 63,
   "id": "7272d794-982d-45b3-821f-ffb489ebb2b6",
   "metadata": {},
   "outputs": [],
   "source": [
    "dwd_44_date.rename(columns={'TT_TU': 'Temp', 'RF_TU' : 'RF'}, inplace = True)"
   ]
  },
  {
   "cell_type": "code",
   "execution_count": 65,
   "id": "1f006036-3364-4c09-95dd-8b6cae0182f8",
   "metadata": {},
   "outputs": [
    {
     "data": {
      "text/html": [
       "<div>\n",
       "<style scoped>\n",
       "    .dataframe tbody tr th:only-of-type {\n",
       "        vertical-align: middle;\n",
       "    }\n",
       "\n",
       "    .dataframe tbody tr th {\n",
       "        vertical-align: top;\n",
       "    }\n",
       "\n",
       "    .dataframe thead th {\n",
       "        text-align: right;\n",
       "    }\n",
       "</style>\n",
       "<table border=\"1\" class=\"dataframe\">\n",
       "  <thead>\n",
       "    <tr style=\"text-align: right;\">\n",
       "      <th></th>\n",
       "      <th>STATIONS_ID</th>\n",
       "      <th>Temp</th>\n",
       "      <th>RF</th>\n",
       "    </tr>\n",
       "    <tr>\n",
       "      <th>TIME</th>\n",
       "      <th></th>\n",
       "      <th></th>\n",
       "      <th></th>\n",
       "    </tr>\n",
       "  </thead>\n",
       "  <tbody>\n",
       "    <tr>\n",
       "      <th>2007-04-01 00:00:00</th>\n",
       "      <td>44</td>\n",
       "      <td>7.3</td>\n",
       "      <td>78.0</td>\n",
       "    </tr>\n",
       "    <tr>\n",
       "      <th>2007-04-01 01:00:00</th>\n",
       "      <td>44</td>\n",
       "      <td>6.4</td>\n",
       "      <td>79.0</td>\n",
       "    </tr>\n",
       "    <tr>\n",
       "      <th>2007-04-01 02:00:00</th>\n",
       "      <td>44</td>\n",
       "      <td>5.4</td>\n",
       "      <td>80.0</td>\n",
       "    </tr>\n",
       "    <tr>\n",
       "      <th>2007-04-01 03:00:00</th>\n",
       "      <td>44</td>\n",
       "      <td>4.9</td>\n",
       "      <td>80.0</td>\n",
       "    </tr>\n",
       "    <tr>\n",
       "      <th>2007-04-01 04:00:00</th>\n",
       "      <td>44</td>\n",
       "      <td>4.5</td>\n",
       "      <td>77.0</td>\n",
       "    </tr>\n",
       "  </tbody>\n",
       "</table>\n",
       "</div>"
      ],
      "text/plain": [
       "                     STATIONS_ID  Temp    RF\n",
       "TIME                                        \n",
       "2007-04-01 00:00:00           44   7.3  78.0\n",
       "2007-04-01 01:00:00           44   6.4  79.0\n",
       "2007-04-01 02:00:00           44   5.4  80.0\n",
       "2007-04-01 03:00:00           44   4.9  80.0\n",
       "2007-04-01 04:00:00           44   4.5  77.0"
      ]
     },
     "execution_count": 65,
     "metadata": {},
     "output_type": "execute_result"
    }
   ],
   "source": [
    "dwd_44_date.head()"
   ]
  },
  {
   "cell_type": "markdown",
   "id": "c09037b7-bf4e-4037-8f14-7a54a801467c",
   "metadata": {},
   "source": [
    "## Plotting"
   ]
  },
  {
   "cell_type": "code",
   "execution_count": 66,
   "id": "0f1b4e38-564e-4294-8066-f6270e2aa1ed",
   "metadata": {},
   "outputs": [],
   "source": [
    "import matplotlib.pyplot as plt"
   ]
  },
  {
   "cell_type": "code",
   "execution_count": 74,
   "id": "92daf04f-5130-4855-8c1b-d596c5d6fddd",
   "metadata": {},
   "outputs": [
    {
     "data": {
      "image/png": "[encoded data removed]",
      "text/plain": [
       "<Figure size 640x480 with 1 Axes>"
      ]
     },
     "metadata": {},
     "output_type": "display_data"
    }
   ],
   "source": [
    "plt.figure()\n",
    "\n",
    "plt.plot (dwd_44_date.index,dwd_44_date['Temp'])\n",
    "\n",
    "plt.show()\n",
    "plt.close()"
   ]
  },
  {
   "cell_type": "code",
   "execution_count": 78,
   "id": "547e6f3a-d262-4635-bdcc-895c24a203bb",
   "metadata": {},
   "outputs": [
    {
     "data": {
      "image/png": "[encoded data removed]",
      "text/plain": [
       "<Figure size 640x480 with 1 Axes>"
      ]
     },
     "metadata": {},
     "output_type": "display_data"
    }
   ],
   "source": [
    "plt.figure()\n",
    "\n",
    "plt.plot (dwd_44_date.index,dwd_44_date['Temp'])\n",
    "plt.annotate('Source: Deutscher Wetterdienst', xy=(0,0.1), xycoords='figure points')\n",
    "\n",
    "plt.show()\n",
    "plt.close()"
   ]
  },
  {
   "cell_type": "code",
   "execution_count": 82,
   "id": "b0863ee5-b7a8-4a54-988e-c0e8a49beace",
   "metadata": {},
   "outputs": [
    {
     "data": {
      "image/png": "[encoded data removed]",
      "text/plain": [
       "<Figure size 640x480 with 1 Axes>"
      ]
     },
     "metadata": {},
     "output_type": "display_data"
    }
   ],
   "source": [
    "plt.figure()\n",
    "\n",
    "plt.plot(dwd_44_date.index,dwd_44_date['Temp'])\n",
    "plt.ylim(-20,40)\n",
    "\n",
    "plt.annotate('Source: Deutscher Wetterdienst', xy=(0,0.1), xycoords='figure points')\n",
    "\n",
    "plt.show()\n",
    "plt.close()"
   ]
  },
  {
   "cell_type": "markdown",
   "id": "2ddeddb5-7c1d-4fed-8692-b8f6a350ad06",
   "metadata": {},
   "source": [
    "We can clearly see the seasonal cylcle, but it is many data to look at, so let's also limit the x axis"
   ]
  },
  {
   "cell_type": "code",
   "execution_count": 85,
   "id": "c8525b98-4919-4d13-80dd-3bd266e5cb0f",
   "metadata": {},
   "outputs": [
    {
     "data": {
      "image/png": "[encoded data removed]",
      "text/plain": [
       "<Figure size 640x480 with 1 Axes>"
      ]
     },
     "metadata": {},
     "output_type": "display_data"
    }
   ],
   "source": [
    "plt.figure()\n",
    "\n",
    "plt.plot(dwd_44_date.index,dwd_44_date['Temp'])\n",
    "\n",
    "plt.ylim(-20,40)\n",
    "plt.xlim(2014,2015)\n",
    "\n",
    "plt.annotate('Source: Deutscher Wetterdienst', xy=(0,1), xycoords='figure points')\n",
    "\n",
    "plt.show()\n",
    "plt.close()"
   ]
  },
  {
   "cell_type": "markdown",
   "id": "c31c2fda-4ef1-41dc-b4d8-968f24282bb8",
   "metadata": {},
   "source": [
    "But now like this, matplotlib interprets the limits as normal numbers, in the background the date still is a (very large) number, so we need to limit using datetime objects\n",
    "\n",
    "Either we use the to_daetime we already used before to convert an integer to a datetime"
   ]
  },
  {
   "cell_type": "code",
   "execution_count": 86,
   "id": "5af1b1c2-19bb-4a7d-a9c5-111239840f66",
   "metadata": {},
   "outputs": [
    {
     "data": {
      "image/png": "[encoded data removed]",
      "text/plain": [
       "<Figure size 640x480 with 1 Axes>"
      ]
     },
     "metadata": {},
     "output_type": "display_data"
    }
   ],
   "source": [
    "plt.figure()\n",
    "\n",
    "plt.plot(dwd_44_date.index,dwd_44_date['Temp'])\n",
    "\n",
    "plt.ylim(-20,40)\n",
    "plt.xlim(pd.to_datetime(20140101, format='%Y%m%d'), pd.to_datetime(20150101, format='%Y%m%d'))\n",
    "\n",
    "plt.annotate('Source: Deutscher Wetterdienst', xy=(0,1), xycoords='figure points')\n",
    "\n",
    "plt.show()\n",
    "plt.close()"
   ]
  },
  {
   "cell_type": "markdown",
   "id": "7b0a0da9-a78d-4eb7-8a74-cd8b117b9b73",
   "metadata": {},
   "source": [
    "Or we directly create a datetime object using _Timestamp_"
   ]
  },
  {
   "cell_type": "code",
   "execution_count": 87,
   "id": "02651e74-c19f-4599-96cc-de00532a9227",
   "metadata": {},
   "outputs": [
    {
     "data": {
      "image/png": "[encoded data removed]",
      "text/plain": [
       "<Figure size 640x480 with 1 Axes>"
      ]
     },
     "metadata": {},
     "output_type": "display_data"
    }
   ],
   "source": [
    "plt.figure()\n",
    "\n",
    "plt.plot(dwd_44_date.index,dwd_44_date['Temp'])\n",
    "\n",
    "plt.ylim(-20,40)\n",
    "plt.xlim(pd.Timestamp(2015,1,1), pd.Timestamp(2016,1,1))\n",
    "\n",
    "plt.annotate('Source: Deutscher Wetterdienst', xy=(0,1), xycoords='figure points')\n",
    "\n",
    "plt.show()\n",
    "plt.close()"
   ]
  },
  {
   "cell_type": "markdown",
   "id": "82646feb-9afb-4276-bc7d-0f8df6f63dbb",
   "metadata": {},
   "source": [
    "And we can also plot both curves into one plot"
   ]
  },
  {
   "cell_type": "code",
   "execution_count": 97,
   "id": "b6cf20dd-8c77-47da-9faf-6d6f8dcdc52c",
   "metadata": {},
   "outputs": [
    {
     "data": {
      "image/png": "[encoded data removed]",
      "text/plain": [
       "<Figure size 640x480 with 1 Axes>"
      ]
     },
     "metadata": {},
     "output_type": "display_data"
    }
   ],
   "source": [
    "plt.figure()\n",
    "\n",
    "plt.plot(dwd_44_date.index,dwd_44_date['Temp'])\n",
    "plt.plot(dwd_44_date.index,dwd_44_date['RF'])\n",
    "\n",
    "plt.ylim(-20,110)\n",
    "plt.xlim(pd.Timestamp(2015,1,1), pd.Timestamp(2016,1,1))\n",
    "\n",
    "plt.annotate('Source: Deutscher Wetterdienst', xy=(0,1), xycoords='figure points')\n",
    "\n",
    "plt.show()\n",
    "plt.close()"
   ]
  },
  {
   "cell_type": "markdown",
   "id": "5cae3b54-d8e6-4b4a-bc9f-d39a563defe1",
   "metadata": {},
   "source": [
    "But with pandas things are even more simple"
   ]
  },
  {
   "cell_type": "code",
   "execution_count": 99,
   "id": "923fce18-3a9b-4af5-9364-1d9a6cea7576",
   "metadata": {},
   "outputs": [
    {
     "data": {
      "text/html": [
       "<div>\n",
       "<style scoped>\n",
       "    .dataframe tbody tr th:only-of-type {\n",
       "        vertical-align: middle;\n",
       "    }\n",
       "\n",
       "    .dataframe tbody tr th {\n",
       "        vertical-align: top;\n",
       "    }\n",
       "\n",
       "    .dataframe thead th {\n",
       "        text-align: right;\n",
       "    }\n",
       "</style>\n",
       "<table border=\"1\" class=\"dataframe\">\n",
       "  <thead>\n",
       "    <tr style=\"text-align: right;\">\n",
       "      <th></th>\n",
       "      <th>STATIONS_ID</th>\n",
       "      <th>Temp</th>\n",
       "      <th>RF</th>\n",
       "    </tr>\n",
       "    <tr>\n",
       "      <th>TIME</th>\n",
       "      <th></th>\n",
       "      <th></th>\n",
       "      <th></th>\n",
       "    </tr>\n",
       "  </thead>\n",
       "  <tbody>\n",
       "    <tr>\n",
       "      <th>2007-04-01 00:00:00</th>\n",
       "      <td>44</td>\n",
       "      <td>7.3</td>\n",
       "      <td>78.0</td>\n",
       "    </tr>\n",
       "    <tr>\n",
       "      <th>2007-04-01 01:00:00</th>\n",
       "      <td>44</td>\n",
       "      <td>6.4</td>\n",
       "      <td>79.0</td>\n",
       "    </tr>\n",
       "    <tr>\n",
       "      <th>2007-04-01 02:00:00</th>\n",
       "      <td>44</td>\n",
       "      <td>5.4</td>\n",
       "      <td>80.0</td>\n",
       "    </tr>\n",
       "    <tr>\n",
       "      <th>2007-04-01 03:00:00</th>\n",
       "      <td>44</td>\n",
       "      <td>4.9</td>\n",
       "      <td>80.0</td>\n",
       "    </tr>\n",
       "    <tr>\n",
       "      <th>2007-04-01 04:00:00</th>\n",
       "      <td>44</td>\n",
       "      <td>4.5</td>\n",
       "      <td>77.0</td>\n",
       "    </tr>\n",
       "  </tbody>\n",
       "</table>\n",
       "</div>"
      ],
      "text/plain": [
       "                     STATIONS_ID  Temp    RF\n",
       "TIME                                        \n",
       "2007-04-01 00:00:00           44   7.3  78.0\n",
       "2007-04-01 01:00:00           44   6.4  79.0\n",
       "2007-04-01 02:00:00           44   5.4  80.0\n",
       "2007-04-01 03:00:00           44   4.9  80.0\n",
       "2007-04-01 04:00:00           44   4.5  77.0"
      ]
     },
     "execution_count": 99,
     "metadata": {},
     "output_type": "execute_result"
    }
   ],
   "source": [
    "dwd_44_date.head()"
   ]
  },
  {
   "cell_type": "code",
   "execution_count": 101,
   "id": "530c01f9-465f-4413-bf5b-437ca548f02e",
   "metadata": {},
   "outputs": [
    {
     "data": {
      "image/png": "[encoded data removed]",
      "text/plain": [
       "<Figure size 640x480 with 1 Axes>"
      ]
     },
     "metadata": {},
     "output_type": "display_data"
    }
   ],
   "source": [
    "dwd_44_date.plot()\n",
    "\n",
    "plt.annotate('Source: Deutscher Wetterdienst', xy=(0,1), xycoords='figure points')\n",
    "\n",
    "plt.show()\n",
    "plt.close()"
   ]
  },
  {
   "cell_type": "code",
   "execution_count": 104,
   "id": "3497a4bf-2533-4204-8f1d-cb6c0fdda8cf",
   "metadata": {},
   "outputs": [
    {
     "data": {
      "image/png": "[encoded data removed]",
      "text/plain": [
       "<Figure size 640x480 with 1 Axes>"
      ]
     },
     "metadata": {},
     "output_type": "display_data"
    }
   ],
   "source": [
    "dwd_44_date['Temp'].plot()\n",
    "\n",
    "plt.annotate('Source: Deutscher Wetterdienst', xy=(0,1), xycoords='figure points')\n",
    "\n",
    "plt.show()\n",
    "plt.close()"
   ]
  },
  {
   "cell_type": "code",
   "execution_count": 106,
   "id": "db22b925-eb06-4985-a5ec-d5cbba01d983",
   "metadata": {},
   "outputs": [
    {
     "data": {
      "image/png": "[encoded data removed]",
      "text/plain": [
       "<Figure size 640x480 with 1 Axes>"
      ]
     },
     "metadata": {},
     "output_type": "display_data"
    }
   ],
   "source": [
    "dwd_44_date['Temp'].plot()\n",
    "\n",
    "plt.ylim(-20,40)\n",
    "plt.xlim(pd.Timestamp(2015,1,1),pd.Timestamp(2016,1,1))\n",
    "\n",
    "plt.annotate('Source: Deutscher Wetterdienst', xy=(0,1), xycoords='figure points')\n",
    "\n",
    "plt.show()\n",
    "plt.close()"
   ]
  },
  {
   "cell_type": "markdown",
   "id": "2d8511f7-184d-4e2b-8c68-6efe498a81f7",
   "metadata": {},
   "source": [
    "## Doing Statistics\n",
    "\n",
    "We can not only plot the data, we can also do statistics on our dataframes\n",
    "\n",
    "For example let's check the what the minimum temperature and rel. humidity is"
   ]
  },
  {
   "cell_type": "code",
   "execution_count": 107,
   "id": "16b616f7-8359-484e-b711-1030ad64a310",
   "metadata": {},
   "outputs": [
    {
     "data": {
      "text/plain": [
       "STATIONS_ID     44.0\n",
       "Temp          -999.0\n",
       "RF            -999.0\n",
       "dtype: float64"
      ]
     },
     "execution_count": 107,
     "metadata": {},
     "output_type": "execute_result"
    }
   ],
   "source": [
    "dwd_44_date.min()"
   ]
  },
  {
   "cell_type": "markdown",
   "id": "fdac4be1-8371-40af-a789-f2a9c6af72c3",
   "metadata": {},
   "source": [
    "As said -999 is a placeholder for no measurements, better would be NaN so not an number, we can change this:"
   ]
  },
  {
   "cell_type": "markdown",
   "id": "6d975477-4b5d-482c-828c-af7fa02bf5d6",
   "metadata": {},
   "source": [
    "## Changing data"
   ]
  },
  {
   "cell_type": "code",
   "execution_count": 108,
   "id": "4dc414f5-c034-4330-a930-c846cfe534ff",
   "metadata": {},
   "outputs": [],
   "source": [
    "import numpy as np"
   ]
  },
  {
   "cell_type": "code",
   "execution_count": 109,
   "id": "0c5f57c6-b03b-4194-80af-1f380e8fce5e",
   "metadata": {},
   "outputs": [],
   "source": [
    "dwd_44_date.where(dwd_44_date != -999.0, other=np.nan, inplace=True)"
   ]
  },
  {
   "cell_type": "markdown",
   "id": "cb3ade34-dd4d-4ea3-9938-39a39b338167",
   "metadata": {},
   "source": [
    "What does it change? We selected all data _where_ our _condition_ is fulfilled, so our data dwd_44_date is not equal (!=) -999.0 \\\n",
    "Every _other_ value is set to NaN (see Docstring)"
   ]
  },
  {
   "cell_type": "code",
   "execution_count": 110,
   "id": "d653e0bc-e587-48c3-93a8-137c122adccb",
   "metadata": {},
   "outputs": [
    {
     "data": {
      "text/plain": [
       "STATIONS_ID    44.0\n",
       "Temp          -15.3\n",
       "RF             14.0\n",
       "dtype: float64"
      ]
     },
     "execution_count": 110,
     "metadata": {},
     "output_type": "execute_result"
    }
   ],
   "source": [
    "dwd_44_date.min()"
   ]
  },
  {
   "cell_type": "code",
   "execution_count": 113,
   "id": "75eb208d-4965-49bb-be86-50cc75103256",
   "metadata": {},
   "outputs": [
    {
     "data": {
      "text/plain": [
       "STATIONS_ID     44.0\n",
       "Temp            37.0\n",
       "RF             100.0\n",
       "dtype: float64"
      ]
     },
     "execution_count": 113,
     "metadata": {},
     "output_type": "execute_result"
    }
   ],
   "source": [
    "dwd_44_date.max()"
   ]
  },
  {
   "cell_type": "code",
   "execution_count": 114,
   "id": "f93d27c7-2f23-4fe5-b04a-35c843b677bf",
   "metadata": {},
   "outputs": [
    {
     "data": {
      "text/plain": [
       "STATIONS_ID     0.000000\n",
       "Temp            7.210917\n",
       "RF             16.531116\n",
       "dtype: float64"
      ]
     },
     "execution_count": 114,
     "metadata": {},
     "output_type": "execute_result"
    }
   ],
   "source": [
    "dwd_44_date.std()"
   ]
  },
  {
   "cell_type": "code",
   "execution_count": 115,
   "id": "2fa80d4b-db0e-432f-9dd4-df0e9118a0d1",
   "metadata": {},
   "outputs": [
    {
     "data": {
      "text/plain": [
       "STATIONS_ID    44.000000\n",
       "Temp           10.145918\n",
       "RF             82.331243\n",
       "dtype: float64"
      ]
     },
     "execution_count": 115,
     "metadata": {},
     "output_type": "execute_result"
    }
   ],
   "source": [
    "dwd_44_date.mean()"
   ]
  },
  {
   "cell_type": "markdown",
   "id": "071796dc-ae8d-4e84-8cd9-84a1cbc79084",
   "metadata": {},
   "source": [
    "You also might to get the statistics for just a specific timeframe for this we want to slice the dataframe\n"
   ]
  },
  {
   "cell_type": "markdown",
   "id": "d55fe124-9ff7-463b-8dc7-cad0022e8e4a",
   "metadata": {},
   "source": [
    "## Slicing"
   ]
  },
  {
   "cell_type": "markdown",
   "id": "ae2256d6-c9de-4c3d-a8ff-4e65a526278c",
   "metadata": {},
   "source": [
    "### loc\n",
    "For slicing the dataframe in rows we can use the fucntion .loc[] \\\n",
    "Note how after the .loc we use the syntax from normal indexing, not ()!"
   ]
  },
  {
   "cell_type": "code",
   "execution_count": 116,
   "id": "df277b9c-844b-4ec3-810f-7aa38be66e72",
   "metadata": {},
   "outputs": [
    {
     "data": {
      "text/html": [
       "<div>\n",
       "<style scoped>\n",
       "    .dataframe tbody tr th:only-of-type {\n",
       "        vertical-align: middle;\n",
       "    }\n",
       "\n",
       "    .dataframe tbody tr th {\n",
       "        vertical-align: top;\n",
       "    }\n",
       "\n",
       "    .dataframe thead th {\n",
       "        text-align: right;\n",
       "    }\n",
       "</style>\n",
       "<table border=\"1\" class=\"dataframe\">\n",
       "  <thead>\n",
       "    <tr style=\"text-align: right;\">\n",
       "      <th></th>\n",
       "      <th>STATIONS_ID</th>\n",
       "      <th>Temp</th>\n",
       "      <th>RF</th>\n",
       "    </tr>\n",
       "    <tr>\n",
       "      <th>TIME</th>\n",
       "      <th></th>\n",
       "      <th></th>\n",
       "      <th></th>\n",
       "    </tr>\n",
       "  </thead>\n",
       "  <tbody>\n",
       "    <tr>\n",
       "      <th>2020-02-04 00:00:00</th>\n",
       "      <td>44</td>\n",
       "      <td>5.8</td>\n",
       "      <td>85.0</td>\n",
       "    </tr>\n",
       "    <tr>\n",
       "      <th>2020-02-04 01:00:00</th>\n",
       "      <td>44</td>\n",
       "      <td>5.7</td>\n",
       "      <td>82.0</td>\n",
       "    </tr>\n",
       "    <tr>\n",
       "      <th>2020-02-04 02:00:00</th>\n",
       "      <td>44</td>\n",
       "      <td>5.0</td>\n",
       "      <td>83.0</td>\n",
       "    </tr>\n",
       "    <tr>\n",
       "      <th>2020-02-04 03:00:00</th>\n",
       "      <td>44</td>\n",
       "      <td>4.6</td>\n",
       "      <td>84.0</td>\n",
       "    </tr>\n",
       "    <tr>\n",
       "      <th>2020-02-04 04:00:00</th>\n",
       "      <td>44</td>\n",
       "      <td>4.5</td>\n",
       "      <td>83.0</td>\n",
       "    </tr>\n",
       "    <tr>\n",
       "      <th>2020-02-04 05:00:00</th>\n",
       "      <td>44</td>\n",
       "      <td>4.2</td>\n",
       "      <td>83.0</td>\n",
       "    </tr>\n",
       "    <tr>\n",
       "      <th>2020-02-04 06:00:00</th>\n",
       "      <td>44</td>\n",
       "      <td>3.8</td>\n",
       "      <td>84.0</td>\n",
       "    </tr>\n",
       "    <tr>\n",
       "      <th>2020-02-04 07:00:00</th>\n",
       "      <td>44</td>\n",
       "      <td>3.6</td>\n",
       "      <td>84.0</td>\n",
       "    </tr>\n",
       "    <tr>\n",
       "      <th>2020-02-04 08:00:00</th>\n",
       "      <td>44</td>\n",
       "      <td>3.8</td>\n",
       "      <td>83.0</td>\n",
       "    </tr>\n",
       "    <tr>\n",
       "      <th>2020-02-04 09:00:00</th>\n",
       "      <td>44</td>\n",
       "      <td>4.1</td>\n",
       "      <td>90.0</td>\n",
       "    </tr>\n",
       "    <tr>\n",
       "      <th>2020-02-04 10:00:00</th>\n",
       "      <td>44</td>\n",
       "      <td>5.2</td>\n",
       "      <td>80.0</td>\n",
       "    </tr>\n",
       "    <tr>\n",
       "      <th>2020-02-04 11:00:00</th>\n",
       "      <td>44</td>\n",
       "      <td>6.0</td>\n",
       "      <td>73.0</td>\n",
       "    </tr>\n",
       "    <tr>\n",
       "      <th>2020-02-04 12:00:00</th>\n",
       "      <td>44</td>\n",
       "      <td>6.8</td>\n",
       "      <td>69.0</td>\n",
       "    </tr>\n",
       "    <tr>\n",
       "      <th>2020-02-04 13:00:00</th>\n",
       "      <td>44</td>\n",
       "      <td>6.6</td>\n",
       "      <td>68.0</td>\n",
       "    </tr>\n",
       "    <tr>\n",
       "      <th>2020-02-04 14:00:00</th>\n",
       "      <td>44</td>\n",
       "      <td>4.5</td>\n",
       "      <td>84.0</td>\n",
       "    </tr>\n",
       "    <tr>\n",
       "      <th>2020-02-04 15:00:00</th>\n",
       "      <td>44</td>\n",
       "      <td>5.3</td>\n",
       "      <td>86.0</td>\n",
       "    </tr>\n",
       "    <tr>\n",
       "      <th>2020-02-04 16:00:00</th>\n",
       "      <td>44</td>\n",
       "      <td>5.0</td>\n",
       "      <td>84.0</td>\n",
       "    </tr>\n",
       "    <tr>\n",
       "      <th>2020-02-04 17:00:00</th>\n",
       "      <td>44</td>\n",
       "      <td>4.6</td>\n",
       "      <td>85.0</td>\n",
       "    </tr>\n",
       "    <tr>\n",
       "      <th>2020-02-04 18:00:00</th>\n",
       "      <td>44</td>\n",
       "      <td>4.4</td>\n",
       "      <td>86.0</td>\n",
       "    </tr>\n",
       "    <tr>\n",
       "      <th>2020-02-04 19:00:00</th>\n",
       "      <td>44</td>\n",
       "      <td>4.4</td>\n",
       "      <td>87.0</td>\n",
       "    </tr>\n",
       "    <tr>\n",
       "      <th>2020-02-04 20:00:00</th>\n",
       "      <td>44</td>\n",
       "      <td>5.3</td>\n",
       "      <td>86.0</td>\n",
       "    </tr>\n",
       "    <tr>\n",
       "      <th>2020-02-04 21:00:00</th>\n",
       "      <td>44</td>\n",
       "      <td>5.7</td>\n",
       "      <td>85.0</td>\n",
       "    </tr>\n",
       "    <tr>\n",
       "      <th>2020-02-04 22:00:00</th>\n",
       "      <td>44</td>\n",
       "      <td>5.3</td>\n",
       "      <td>86.0</td>\n",
       "    </tr>\n",
       "    <tr>\n",
       "      <th>2020-02-04 23:00:00</th>\n",
       "      <td>44</td>\n",
       "      <td>5.0</td>\n",
       "      <td>80.0</td>\n",
       "    </tr>\n",
       "  </tbody>\n",
       "</table>\n",
       "</div>"
      ],
      "text/plain": [
       "                     STATIONS_ID  Temp    RF\n",
       "TIME                                        \n",
       "2020-02-04 00:00:00           44   5.8  85.0\n",
       "2020-02-04 01:00:00           44   5.7  82.0\n",
       "2020-02-04 02:00:00           44   5.0  83.0\n",
       "2020-02-04 03:00:00           44   4.6  84.0\n",
       "2020-02-04 04:00:00           44   4.5  83.0\n",
       "2020-02-04 05:00:00           44   4.2  83.0\n",
       "2020-02-04 06:00:00           44   3.8  84.0\n",
       "2020-02-04 07:00:00           44   3.6  84.0\n",
       "2020-02-04 08:00:00           44   3.8  83.0\n",
       "2020-02-04 09:00:00           44   4.1  90.0\n",
       "2020-02-04 10:00:00           44   5.2  80.0\n",
       "2020-02-04 11:00:00           44   6.0  73.0\n",
       "2020-02-04 12:00:00           44   6.8  69.0\n",
       "2020-02-04 13:00:00           44   6.6  68.0\n",
       "2020-02-04 14:00:00           44   4.5  84.0\n",
       "2020-02-04 15:00:00           44   5.3  86.0\n",
       "2020-02-04 16:00:00           44   5.0  84.0\n",
       "2020-02-04 17:00:00           44   4.6  85.0\n",
       "2020-02-04 18:00:00           44   4.4  86.0\n",
       "2020-02-04 19:00:00           44   4.4  87.0\n",
       "2020-02-04 20:00:00           44   5.3  86.0\n",
       "2020-02-04 21:00:00           44   5.7  85.0\n",
       "2020-02-04 22:00:00           44   5.3  86.0\n",
       "2020-02-04 23:00:00           44   5.0  80.0"
      ]
     },
     "execution_count": 116,
     "metadata": {},
     "output_type": "execute_result"
    }
   ],
   "source": [
    "dwd_44_date.loc['2020-02-04']"
   ]
  },
  {
   "cell_type": "markdown",
   "id": "2591e349-0cdc-4cfc-a676-5087e862e573",
   "metadata": {},
   "source": [
    "This way we only get the data for that specific day\n",
    "\n",
    "But as done for arrays you can also give a range to select"
   ]
  },
  {
   "cell_type": "code",
   "execution_count": 119,
   "id": "8534a552-9d2e-4ad9-b484-9b633ee0b272",
   "metadata": {},
   "outputs": [
    {
     "data": {
      "text/html": [
       "<div>\n",
       "<style scoped>\n",
       "    .dataframe tbody tr th:only-of-type {\n",
       "        vertical-align: middle;\n",
       "    }\n",
       "\n",
       "    .dataframe tbody tr th {\n",
       "        vertical-align: top;\n",
       "    }\n",
       "\n",
       "    .dataframe thead th {\n",
       "        text-align: right;\n",
       "    }\n",
       "</style>\n",
       "<table border=\"1\" class=\"dataframe\">\n",
       "  <thead>\n",
       "    <tr style=\"text-align: right;\">\n",
       "      <th></th>\n",
       "      <th>STATIONS_ID</th>\n",
       "      <th>Temp</th>\n",
       "      <th>RF</th>\n",
       "    </tr>\n",
       "    <tr>\n",
       "      <th>TIME</th>\n",
       "      <th></th>\n",
       "      <th></th>\n",
       "      <th></th>\n",
       "    </tr>\n",
       "  </thead>\n",
       "  <tbody>\n",
       "    <tr>\n",
       "      <th>2020-02-04 00:00:00</th>\n",
       "      <td>44</td>\n",
       "      <td>5.8</td>\n",
       "      <td>85.0</td>\n",
       "    </tr>\n",
       "    <tr>\n",
       "      <th>2020-02-04 01:00:00</th>\n",
       "      <td>44</td>\n",
       "      <td>5.7</td>\n",
       "      <td>82.0</td>\n",
       "    </tr>\n",
       "    <tr>\n",
       "      <th>2020-02-04 02:00:00</th>\n",
       "      <td>44</td>\n",
       "      <td>5.0</td>\n",
       "      <td>83.0</td>\n",
       "    </tr>\n",
       "    <tr>\n",
       "      <th>2020-02-04 03:00:00</th>\n",
       "      <td>44</td>\n",
       "      <td>4.6</td>\n",
       "      <td>84.0</td>\n",
       "    </tr>\n",
       "    <tr>\n",
       "      <th>2020-02-04 04:00:00</th>\n",
       "      <td>44</td>\n",
       "      <td>4.5</td>\n",
       "      <td>83.0</td>\n",
       "    </tr>\n",
       "    <tr>\n",
       "      <th>2020-02-04 05:00:00</th>\n",
       "      <td>44</td>\n",
       "      <td>4.2</td>\n",
       "      <td>83.0</td>\n",
       "    </tr>\n",
       "    <tr>\n",
       "      <th>2020-02-04 06:00:00</th>\n",
       "      <td>44</td>\n",
       "      <td>3.8</td>\n",
       "      <td>84.0</td>\n",
       "    </tr>\n",
       "    <tr>\n",
       "      <th>2020-02-04 07:00:00</th>\n",
       "      <td>44</td>\n",
       "      <td>3.6</td>\n",
       "      <td>84.0</td>\n",
       "    </tr>\n",
       "    <tr>\n",
       "      <th>2020-02-04 08:00:00</th>\n",
       "      <td>44</td>\n",
       "      <td>3.8</td>\n",
       "      <td>83.0</td>\n",
       "    </tr>\n",
       "    <tr>\n",
       "      <th>2020-02-04 09:00:00</th>\n",
       "      <td>44</td>\n",
       "      <td>4.1</td>\n",
       "      <td>90.0</td>\n",
       "    </tr>\n",
       "    <tr>\n",
       "      <th>2020-02-04 10:00:00</th>\n",
       "      <td>44</td>\n",
       "      <td>5.2</td>\n",
       "      <td>80.0</td>\n",
       "    </tr>\n",
       "    <tr>\n",
       "      <th>2020-02-04 11:00:00</th>\n",
       "      <td>44</td>\n",
       "      <td>6.0</td>\n",
       "      <td>73.0</td>\n",
       "    </tr>\n",
       "    <tr>\n",
       "      <th>2020-02-04 12:00:00</th>\n",
       "      <td>44</td>\n",
       "      <td>6.8</td>\n",
       "      <td>69.0</td>\n",
       "    </tr>\n",
       "    <tr>\n",
       "      <th>2020-02-04 13:00:00</th>\n",
       "      <td>44</td>\n",
       "      <td>6.6</td>\n",
       "      <td>68.0</td>\n",
       "    </tr>\n",
       "    <tr>\n",
       "      <th>2020-02-04 14:00:00</th>\n",
       "      <td>44</td>\n",
       "      <td>4.5</td>\n",
       "      <td>84.0</td>\n",
       "    </tr>\n",
       "    <tr>\n",
       "      <th>2020-02-04 15:00:00</th>\n",
       "      <td>44</td>\n",
       "      <td>5.3</td>\n",
       "      <td>86.0</td>\n",
       "    </tr>\n",
       "    <tr>\n",
       "      <th>2020-02-04 16:00:00</th>\n",
       "      <td>44</td>\n",
       "      <td>5.0</td>\n",
       "      <td>84.0</td>\n",
       "    </tr>\n",
       "    <tr>\n",
       "      <th>2020-02-04 17:00:00</th>\n",
       "      <td>44</td>\n",
       "      <td>4.6</td>\n",
       "      <td>85.0</td>\n",
       "    </tr>\n",
       "    <tr>\n",
       "      <th>2020-02-04 18:00:00</th>\n",
       "      <td>44</td>\n",
       "      <td>4.4</td>\n",
       "      <td>86.0</td>\n",
       "    </tr>\n",
       "    <tr>\n",
       "      <th>2020-02-04 19:00:00</th>\n",
       "      <td>44</td>\n",
       "      <td>4.4</td>\n",
       "      <td>87.0</td>\n",
       "    </tr>\n",
       "    <tr>\n",
       "      <th>2020-02-04 20:00:00</th>\n",
       "      <td>44</td>\n",
       "      <td>5.3</td>\n",
       "      <td>86.0</td>\n",
       "    </tr>\n",
       "    <tr>\n",
       "      <th>2020-02-04 21:00:00</th>\n",
       "      <td>44</td>\n",
       "      <td>5.7</td>\n",
       "      <td>85.0</td>\n",
       "    </tr>\n",
       "    <tr>\n",
       "      <th>2020-02-04 22:00:00</th>\n",
       "      <td>44</td>\n",
       "      <td>5.3</td>\n",
       "      <td>86.0</td>\n",
       "    </tr>\n",
       "    <tr>\n",
       "      <th>2020-02-04 23:00:00</th>\n",
       "      <td>44</td>\n",
       "      <td>5.0</td>\n",
       "      <td>80.0</td>\n",
       "    </tr>\n",
       "    <tr>\n",
       "      <th>2020-02-05 00:00:00</th>\n",
       "      <td>44</td>\n",
       "      <td>4.4</td>\n",
       "      <td>80.0</td>\n",
       "    </tr>\n",
       "    <tr>\n",
       "      <th>2020-02-05 01:00:00</th>\n",
       "      <td>44</td>\n",
       "      <td>4.2</td>\n",
       "      <td>81.0</td>\n",
       "    </tr>\n",
       "    <tr>\n",
       "      <th>2020-02-05 02:00:00</th>\n",
       "      <td>44</td>\n",
       "      <td>2.2</td>\n",
       "      <td>87.0</td>\n",
       "    </tr>\n",
       "    <tr>\n",
       "      <th>2020-02-05 03:00:00</th>\n",
       "      <td>44</td>\n",
       "      <td>1.4</td>\n",
       "      <td>88.0</td>\n",
       "    </tr>\n",
       "    <tr>\n",
       "      <th>2020-02-05 04:00:00</th>\n",
       "      <td>44</td>\n",
       "      <td>0.8</td>\n",
       "      <td>87.0</td>\n",
       "    </tr>\n",
       "    <tr>\n",
       "      <th>2020-02-05 05:00:00</th>\n",
       "      <td>44</td>\n",
       "      <td>-0.9</td>\n",
       "      <td>92.0</td>\n",
       "    </tr>\n",
       "    <tr>\n",
       "      <th>2020-02-05 06:00:00</th>\n",
       "      <td>44</td>\n",
       "      <td>-1.8</td>\n",
       "      <td>96.0</td>\n",
       "    </tr>\n",
       "    <tr>\n",
       "      <th>2020-02-05 07:00:00</th>\n",
       "      <td>44</td>\n",
       "      <td>-2.5</td>\n",
       "      <td>96.0</td>\n",
       "    </tr>\n",
       "    <tr>\n",
       "      <th>2020-02-05 08:00:00</th>\n",
       "      <td>44</td>\n",
       "      <td>-0.8</td>\n",
       "      <td>91.0</td>\n",
       "    </tr>\n",
       "    <tr>\n",
       "      <th>2020-02-05 09:00:00</th>\n",
       "      <td>44</td>\n",
       "      <td>1.2</td>\n",
       "      <td>83.0</td>\n",
       "    </tr>\n",
       "    <tr>\n",
       "      <th>2020-02-05 10:00:00</th>\n",
       "      <td>44</td>\n",
       "      <td>3.5</td>\n",
       "      <td>71.0</td>\n",
       "    </tr>\n",
       "    <tr>\n",
       "      <th>2020-02-05 11:00:00</th>\n",
       "      <td>44</td>\n",
       "      <td>5.2</td>\n",
       "      <td>63.0</td>\n",
       "    </tr>\n",
       "    <tr>\n",
       "      <th>2020-02-05 12:00:00</th>\n",
       "      <td>44</td>\n",
       "      <td>6.0</td>\n",
       "      <td>60.0</td>\n",
       "    </tr>\n",
       "    <tr>\n",
       "      <th>2020-02-05 13:00:00</th>\n",
       "      <td>44</td>\n",
       "      <td>6.7</td>\n",
       "      <td>63.0</td>\n",
       "    </tr>\n",
       "    <tr>\n",
       "      <th>2020-02-05 14:00:00</th>\n",
       "      <td>44</td>\n",
       "      <td>6.8</td>\n",
       "      <td>61.0</td>\n",
       "    </tr>\n",
       "    <tr>\n",
       "      <th>2020-02-05 15:00:00</th>\n",
       "      <td>44</td>\n",
       "      <td>6.1</td>\n",
       "      <td>64.0</td>\n",
       "    </tr>\n",
       "    <tr>\n",
       "      <th>2020-02-05 16:00:00</th>\n",
       "      <td>44</td>\n",
       "      <td>4.9</td>\n",
       "      <td>73.0</td>\n",
       "    </tr>\n",
       "    <tr>\n",
       "      <th>2020-02-05 17:00:00</th>\n",
       "      <td>44</td>\n",
       "      <td>5.1</td>\n",
       "      <td>73.0</td>\n",
       "    </tr>\n",
       "    <tr>\n",
       "      <th>2020-02-05 18:00:00</th>\n",
       "      <td>44</td>\n",
       "      <td>4.7</td>\n",
       "      <td>76.0</td>\n",
       "    </tr>\n",
       "    <tr>\n",
       "      <th>2020-02-05 19:00:00</th>\n",
       "      <td>44</td>\n",
       "      <td>4.6</td>\n",
       "      <td>75.0</td>\n",
       "    </tr>\n",
       "    <tr>\n",
       "      <th>2020-02-05 20:00:00</th>\n",
       "      <td>44</td>\n",
       "      <td>4.2</td>\n",
       "      <td>76.0</td>\n",
       "    </tr>\n",
       "    <tr>\n",
       "      <th>2020-02-05 21:00:00</th>\n",
       "      <td>44</td>\n",
       "      <td>4.1</td>\n",
       "      <td>77.0</td>\n",
       "    </tr>\n",
       "    <tr>\n",
       "      <th>2020-02-05 22:00:00</th>\n",
       "      <td>44</td>\n",
       "      <td>3.6</td>\n",
       "      <td>80.0</td>\n",
       "    </tr>\n",
       "    <tr>\n",
       "      <th>2020-02-05 23:00:00</th>\n",
       "      <td>44</td>\n",
       "      <td>3.2</td>\n",
       "      <td>83.0</td>\n",
       "    </tr>\n",
       "  </tbody>\n",
       "</table>\n",
       "</div>"
      ],
      "text/plain": [
       "                     STATIONS_ID  Temp    RF\n",
       "TIME                                        \n",
       "2020-02-04 00:00:00           44   5.8  85.0\n",
       "2020-02-04 01:00:00           44   5.7  82.0\n",
       "2020-02-04 02:00:00           44   5.0  83.0\n",
       "2020-02-04 03:00:00           44   4.6  84.0\n",
       "2020-02-04 04:00:00           44   4.5  83.0\n",
       "2020-02-04 05:00:00           44   4.2  83.0\n",
       "2020-02-04 06:00:00           44   3.8  84.0\n",
       "2020-02-04 07:00:00           44   3.6  84.0\n",
       "2020-02-04 08:00:00           44   3.8  83.0\n",
       "2020-02-04 09:00:00           44   4.1  90.0\n",
       "2020-02-04 10:00:00           44   5.2  80.0\n",
       "2020-02-04 11:00:00           44   6.0  73.0\n",
       "2020-02-04 12:00:00           44   6.8  69.0\n",
       "2020-02-04 13:00:00           44   6.6  68.0\n",
       "2020-02-04 14:00:00           44   4.5  84.0\n",
       "2020-02-04 15:00:00           44   5.3  86.0\n",
       "2020-02-04 16:00:00           44   5.0  84.0\n",
       "2020-02-04 17:00:00           44   4.6  85.0\n",
       "2020-02-04 18:00:00           44   4.4  86.0\n",
       "2020-02-04 19:00:00           44   4.4  87.0\n",
       "2020-02-04 20:00:00           44   5.3  86.0\n",
       "2020-02-04 21:00:00           44   5.7  85.0\n",
       "2020-02-04 22:00:00           44   5.3  86.0\n",
       "2020-02-04 23:00:00           44   5.0  80.0\n",
       "2020-02-05 00:00:00           44   4.4  80.0\n",
       "2020-02-05 01:00:00           44   4.2  81.0\n",
       "2020-02-05 02:00:00           44   2.2  87.0\n",
       "2020-02-05 03:00:00           44   1.4  88.0\n",
       "2020-02-05 04:00:00           44   0.8  87.0\n",
       "2020-02-05 05:00:00           44  -0.9  92.0\n",
       "2020-02-05 06:00:00           44  -1.8  96.0\n",
       "2020-02-05 07:00:00           44  -2.5  96.0\n",
       "2020-02-05 08:00:00           44  -0.8  91.0\n",
       "2020-02-05 09:00:00           44   1.2  83.0\n",
       "2020-02-05 10:00:00           44   3.5  71.0\n",
       "2020-02-05 11:00:00           44   5.2  63.0\n",
       "2020-02-05 12:00:00           44   6.0  60.0\n",
       "2020-02-05 13:00:00           44   6.7  63.0\n",
       "2020-02-05 14:00:00           44   6.8  61.0\n",
       "2020-02-05 15:00:00           44   6.1  64.0\n",
       "2020-02-05 16:00:00           44   4.9  73.0\n",
       "2020-02-05 17:00:00           44   5.1  73.0\n",
       "2020-02-05 18:00:00           44   4.7  76.0\n",
       "2020-02-05 19:00:00           44   4.6  75.0\n",
       "2020-02-05 20:00:00           44   4.2  76.0\n",
       "2020-02-05 21:00:00           44   4.1  77.0\n",
       "2020-02-05 22:00:00           44   3.6  80.0\n",
       "2020-02-05 23:00:00           44   3.2  83.0"
      ]
     },
     "execution_count": 119,
     "metadata": {},
     "output_type": "execute_result"
    }
   ],
   "source": [
    "dwd_44_date.loc['2020-02-04':'2020-02-05']"
   ]
  },
  {
   "cell_type": "code",
   "execution_count": 121,
   "id": "3a544659-880e-482c-9bb0-864e3cd2d771",
   "metadata": {},
   "outputs": [],
   "source": [
    "# storing this in a new variable we can do statistiucs on this \n",
    "data_feb = dwd_44_date.loc['2020-02']"
   ]
  },
  {
   "cell_type": "code",
   "execution_count": 122,
   "id": "0da1b57a-f4c0-4a8e-9645-a9560ac486ef",
   "metadata": {},
   "outputs": [
    {
     "data": {
      "text/plain": [
       "STATIONS_ID    44.0\n",
       "Temp           -2.5\n",
       "RF             52.0\n",
       "dtype: float64"
      ]
     },
     "execution_count": 122,
     "metadata": {},
     "output_type": "execute_result"
    }
   ],
   "source": [
    "data_feb.min()"
   ]
  },
  {
   "cell_type": "code",
   "execution_count": 123,
   "id": "1b33f48a-bfbb-48e1-acb5-accb4409984c",
   "metadata": {},
   "outputs": [
    {
     "data": {
      "text/plain": [
       "STATIONS_ID     44.0\n",
       "Temp            16.9\n",
       "RF             100.0\n",
       "dtype: float64"
      ]
     },
     "execution_count": 123,
     "metadata": {},
     "output_type": "execute_result"
    }
   ],
   "source": [
    "data_feb.max()"
   ]
  },
  {
   "cell_type": "markdown",
   "id": "5d19fccf-730e-4616-bd43-da0f0815ef4a",
   "metadata": {},
   "source": [
    "## Group by\n",
    "Group by is a function to group your data by a specific value from a column. For example if we would create a column with the year in it, we could group all elements with the same year in on single row"
   ]
  },
  {
   "cell_type": "markdown",
   "id": "f4c15a19-649e-4489-919a-a59f1a500ce7",
   "metadata": {},
   "source": [
    "First let's create a new column"
   ]
  },
  {
   "cell_type": "code",
   "execution_count": 125,
   "id": "aad4bac6-54f8-420d-aa58-55049dab17de",
   "metadata": {},
   "outputs": [],
   "source": [
    "dwd_44_date['Year'] = dwd_44_date.index.year"
   ]
  },
  {
   "cell_type": "code",
   "execution_count": 126,
   "id": "feb08d9d-97e9-48f3-892a-497cf1b193cb",
   "metadata": {},
   "outputs": [
    {
     "data": {
      "text/html": [
       "<div>\n",
       "<style scoped>\n",
       "    .dataframe tbody tr th:only-of-type {\n",
       "        vertical-align: middle;\n",
       "    }\n",
       "\n",
       "    .dataframe tbody tr th {\n",
       "        vertical-align: top;\n",
       "    }\n",
       "\n",
       "    .dataframe thead th {\n",
       "        text-align: right;\n",
       "    }\n",
       "</style>\n",
       "<table border=\"1\" class=\"dataframe\">\n",
       "  <thead>\n",
       "    <tr style=\"text-align: right;\">\n",
       "      <th></th>\n",
       "      <th>STATIONS_ID</th>\n",
       "      <th>Temp</th>\n",
       "      <th>RF</th>\n",
       "      <th>Year</th>\n",
       "    </tr>\n",
       "    <tr>\n",
       "      <th>TIME</th>\n",
       "      <th></th>\n",
       "      <th></th>\n",
       "      <th></th>\n",
       "      <th></th>\n",
       "    </tr>\n",
       "  </thead>\n",
       "  <tbody>\n",
       "    <tr>\n",
       "      <th>2007-04-01 00:00:00</th>\n",
       "      <td>44</td>\n",
       "      <td>7.3</td>\n",
       "      <td>78.0</td>\n",
       "      <td>2007</td>\n",
       "    </tr>\n",
       "    <tr>\n",
       "      <th>2007-04-01 01:00:00</th>\n",
       "      <td>44</td>\n",
       "      <td>6.4</td>\n",
       "      <td>79.0</td>\n",
       "      <td>2007</td>\n",
       "    </tr>\n",
       "    <tr>\n",
       "      <th>2007-04-01 02:00:00</th>\n",
       "      <td>44</td>\n",
       "      <td>5.4</td>\n",
       "      <td>80.0</td>\n",
       "      <td>2007</td>\n",
       "    </tr>\n",
       "    <tr>\n",
       "      <th>2007-04-01 03:00:00</th>\n",
       "      <td>44</td>\n",
       "      <td>4.9</td>\n",
       "      <td>80.0</td>\n",
       "      <td>2007</td>\n",
       "    </tr>\n",
       "    <tr>\n",
       "      <th>2007-04-01 04:00:00</th>\n",
       "      <td>44</td>\n",
       "      <td>4.5</td>\n",
       "      <td>77.0</td>\n",
       "      <td>2007</td>\n",
       "    </tr>\n",
       "  </tbody>\n",
       "</table>\n",
       "</div>"
      ],
      "text/plain": [
       "                     STATIONS_ID  Temp    RF  Year\n",
       "TIME                                              \n",
       "2007-04-01 00:00:00           44   7.3  78.0  2007\n",
       "2007-04-01 01:00:00           44   6.4  79.0  2007\n",
       "2007-04-01 02:00:00           44   5.4  80.0  2007\n",
       "2007-04-01 03:00:00           44   4.9  80.0  2007\n",
       "2007-04-01 04:00:00           44   4.5  77.0  2007"
      ]
     },
     "execution_count": 126,
     "metadata": {},
     "output_type": "execute_result"
    }
   ],
   "source": [
    "dwd_44_date.head()"
   ]
  },
  {
   "cell_type": "code",
   "execution_count": 127,
   "id": "163d1449-32b5-4ba5-b408-0614208be714",
   "metadata": {},
   "outputs": [
    {
     "data": {
      "text/html": [
       "<div>\n",
       "<style scoped>\n",
       "    .dataframe tbody tr th:only-of-type {\n",
       "        vertical-align: middle;\n",
       "    }\n",
       "\n",
       "    .dataframe tbody tr th {\n",
       "        vertical-align: top;\n",
       "    }\n",
       "\n",
       "    .dataframe thead th {\n",
       "        text-align: right;\n",
       "    }\n",
       "</style>\n",
       "<table border=\"1\" class=\"dataframe\">\n",
       "  <thead>\n",
       "    <tr style=\"text-align: right;\">\n",
       "      <th></th>\n",
       "      <th>STATIONS_ID</th>\n",
       "      <th>Temp</th>\n",
       "      <th>RF</th>\n",
       "      <th>Year</th>\n",
       "    </tr>\n",
       "    <tr>\n",
       "      <th>TIME</th>\n",
       "      <th></th>\n",
       "      <th></th>\n",
       "      <th></th>\n",
       "      <th></th>\n",
       "    </tr>\n",
       "  </thead>\n",
       "  <tbody>\n",
       "    <tr>\n",
       "      <th>2020-12-31 19:00:00</th>\n",
       "      <td>44</td>\n",
       "      <td>0.6</td>\n",
       "      <td>97.0</td>\n",
       "      <td>2020</td>\n",
       "    </tr>\n",
       "    <tr>\n",
       "      <th>2020-12-31 20:00:00</th>\n",
       "      <td>44</td>\n",
       "      <td>0.0</td>\n",
       "      <td>98.0</td>\n",
       "      <td>2020</td>\n",
       "    </tr>\n",
       "    <tr>\n",
       "      <th>2020-12-31 21:00:00</th>\n",
       "      <td>44</td>\n",
       "      <td>0.3</td>\n",
       "      <td>99.0</td>\n",
       "      <td>2020</td>\n",
       "    </tr>\n",
       "    <tr>\n",
       "      <th>2020-12-31 22:00:00</th>\n",
       "      <td>44</td>\n",
       "      <td>1.2</td>\n",
       "      <td>97.0</td>\n",
       "      <td>2020</td>\n",
       "    </tr>\n",
       "    <tr>\n",
       "      <th>2020-12-31 23:00:00</th>\n",
       "      <td>44</td>\n",
       "      <td>1.4</td>\n",
       "      <td>93.0</td>\n",
       "      <td>2020</td>\n",
       "    </tr>\n",
       "  </tbody>\n",
       "</table>\n",
       "</div>"
      ],
      "text/plain": [
       "                     STATIONS_ID  Temp    RF  Year\n",
       "TIME                                              \n",
       "2020-12-31 19:00:00           44   0.6  97.0  2020\n",
       "2020-12-31 20:00:00           44   0.0  98.0  2020\n",
       "2020-12-31 21:00:00           44   0.3  99.0  2020\n",
       "2020-12-31 22:00:00           44   1.2  97.0  2020\n",
       "2020-12-31 23:00:00           44   1.4  93.0  2020"
      ]
     },
     "execution_count": 127,
     "metadata": {},
     "output_type": "execute_result"
    }
   ],
   "source": [
    "dwd_44_date.tail()\n"
   ]
  },
  {
   "cell_type": "code",
   "execution_count": 128,
   "id": "79a2e77b-1fe1-4f02-8e7a-d5c849d272a3",
   "metadata": {},
   "outputs": [
    {
     "data": {
      "text/plain": [
       "<pandas.core.groupby.generic.DataFrameGroupBy object at 0x7f5253577b50>"
      ]
     },
     "execution_count": 128,
     "metadata": {},
     "output_type": "execute_result"
    }
   ],
   "source": [
    "#let's now use the groupby\n",
    "dwd_44_date.groupby('Year')"
   ]
  },
  {
   "cell_type": "markdown",
   "id": "238a9b2b-6912-4e00-999d-f8f98f07cca4",
   "metadata": {},
   "source": [
    "You see, that we do not get directly an visual output, this is because pandas kinda waits for us to tell it what it should do with these grouped data \\\n",
    "We wanted it to be averaged by "
   ]
  },
  {
   "cell_type": "code",
   "execution_count": 129,
   "id": "3c15b488-7d96-4edf-be42-4e7c0aebeceb",
   "metadata": {},
   "outputs": [],
   "source": [
    "dwd_yearly_mean = dwd_44_date.groupby('Year').mean()"
   ]
  },
  {
   "cell_type": "code",
   "execution_count": 130,
   "id": "0f16c6b5-053e-4964-a143-b27d137392fa",
   "metadata": {},
   "outputs": [
    {
     "data": {
      "text/html": [
       "<div>\n",
       "<style scoped>\n",
       "    .dataframe tbody tr th:only-of-type {\n",
       "        vertical-align: middle;\n",
       "    }\n",
       "\n",
       "    .dataframe tbody tr th {\n",
       "        vertical-align: top;\n",
       "    }\n",
       "\n",
       "    .dataframe thead th {\n",
       "        text-align: right;\n",
       "    }\n",
       "</style>\n",
       "<table border=\"1\" class=\"dataframe\">\n",
       "  <thead>\n",
       "    <tr style=\"text-align: right;\">\n",
       "      <th></th>\n",
       "      <th>STATIONS_ID</th>\n",
       "      <th>Temp</th>\n",
       "      <th>RF</th>\n",
       "    </tr>\n",
       "    <tr>\n",
       "      <th>Year</th>\n",
       "      <th></th>\n",
       "      <th></th>\n",
       "      <th></th>\n",
       "    </tr>\n",
       "  </thead>\n",
       "  <tbody>\n",
       "    <tr>\n",
       "      <th>2007</th>\n",
       "      <td>44.0</td>\n",
       "      <td>12.436117</td>\n",
       "      <td>80.875454</td>\n",
       "    </tr>\n",
       "    <tr>\n",
       "      <th>2008</th>\n",
       "      <td>44.0</td>\n",
       "      <td>10.125444</td>\n",
       "      <td>81.654484</td>\n",
       "    </tr>\n",
       "    <tr>\n",
       "      <th>2009</th>\n",
       "      <td>44.0</td>\n",
       "      <td>9.871381</td>\n",
       "      <td>81.337100</td>\n",
       "    </tr>\n",
       "    <tr>\n",
       "      <th>2010</th>\n",
       "      <td>44.0</td>\n",
       "      <td>8.221187</td>\n",
       "      <td>82.586644</td>\n",
       "    </tr>\n",
       "    <tr>\n",
       "      <th>2011</th>\n",
       "      <td>44.0</td>\n",
       "      <td>10.089144</td>\n",
       "      <td>83.148402</td>\n",
       "    </tr>\n",
       "    <tr>\n",
       "      <th>2012</th>\n",
       "      <td>44.0</td>\n",
       "      <td>9.749387</td>\n",
       "      <td>83.018990</td>\n",
       "    </tr>\n",
       "    <tr>\n",
       "      <th>2013</th>\n",
       "      <td>44.0</td>\n",
       "      <td>9.028718</td>\n",
       "      <td>82.558259</td>\n",
       "    </tr>\n",
       "    <tr>\n",
       "      <th>2014</th>\n",
       "      <td>44.0</td>\n",
       "      <td>10.814060</td>\n",
       "      <td>83.598968</td>\n",
       "    </tr>\n",
       "    <tr>\n",
       "      <th>2015</th>\n",
       "      <td>44.0</td>\n",
       "      <td>10.120704</td>\n",
       "      <td>83.771252</td>\n",
       "    </tr>\n",
       "    <tr>\n",
       "      <th>2016</th>\n",
       "      <td>44.0</td>\n",
       "      <td>9.866917</td>\n",
       "      <td>85.538707</td>\n",
       "    </tr>\n",
       "    <tr>\n",
       "      <th>2017</th>\n",
       "      <td>44.0</td>\n",
       "      <td>9.989292</td>\n",
       "      <td>85.310616</td>\n",
       "    </tr>\n",
       "    <tr>\n",
       "      <th>2018</th>\n",
       "      <td>44.0</td>\n",
       "      <td>10.814696</td>\n",
       "      <td>78.981473</td>\n",
       "    </tr>\n",
       "    <tr>\n",
       "      <th>2019</th>\n",
       "      <td>44.0</td>\n",
       "      <td>10.658105</td>\n",
       "      <td>80.299087</td>\n",
       "    </tr>\n",
       "    <tr>\n",
       "      <th>2020</th>\n",
       "      <td>44.0</td>\n",
       "      <td>10.882586</td>\n",
       "      <td>79.559512</td>\n",
       "    </tr>\n",
       "  </tbody>\n",
       "</table>\n",
       "</div>"
      ],
      "text/plain": [
       "      STATIONS_ID       Temp         RF\n",
       "Year                                   \n",
       "2007         44.0  12.436117  80.875454\n",
       "2008         44.0  10.125444  81.654484\n",
       "2009         44.0   9.871381  81.337100\n",
       "2010         44.0   8.221187  82.586644\n",
       "2011         44.0  10.089144  83.148402\n",
       "2012         44.0   9.749387  83.018990\n",
       "2013         44.0   9.028718  82.558259\n",
       "2014         44.0  10.814060  83.598968\n",
       "2015         44.0  10.120704  83.771252\n",
       "2016         44.0   9.866917  85.538707\n",
       "2017         44.0   9.989292  85.310616\n",
       "2018         44.0  10.814696  78.981473\n",
       "2019         44.0  10.658105  80.299087\n",
       "2020         44.0  10.882586  79.559512"
      ]
     },
     "execution_count": 130,
     "metadata": {},
     "output_type": "execute_result"
    }
   ],
   "source": [
    "dwd_yearly_mean"
   ]
  },
  {
   "cell_type": "code",
   "execution_count": 131,
   "id": "fef0adb8-ed37-43dd-a350-88932d45b5d0",
   "metadata": {},
   "outputs": [],
   "source": [
    "dwd_yearly_max = dwd_44_date.groupby('Year').max()\n"
   ]
  },
  {
   "cell_type": "code",
   "execution_count": 132,
   "id": "e38395a6-4cf7-4064-80fc-fc770d7889ba",
   "metadata": {},
   "outputs": [
    {
     "data": {
      "text/html": [
       "<div>\n",
       "<style scoped>\n",
       "    .dataframe tbody tr th:only-of-type {\n",
       "        vertical-align: middle;\n",
       "    }\n",
       "\n",
       "    .dataframe tbody tr th {\n",
       "        vertical-align: top;\n",
       "    }\n",
       "\n",
       "    .dataframe thead th {\n",
       "        text-align: right;\n",
       "    }\n",
       "</style>\n",
       "<table border=\"1\" class=\"dataframe\">\n",
       "  <thead>\n",
       "    <tr style=\"text-align: right;\">\n",
       "      <th></th>\n",
       "      <th>STATIONS_ID</th>\n",
       "      <th>Temp</th>\n",
       "      <th>RF</th>\n",
       "    </tr>\n",
       "    <tr>\n",
       "      <th>Year</th>\n",
       "      <th></th>\n",
       "      <th></th>\n",
       "      <th></th>\n",
       "    </tr>\n",
       "  </thead>\n",
       "  <tbody>\n",
       "    <tr>\n",
       "      <th>2007</th>\n",
       "      <td>44</td>\n",
       "      <td>30.9</td>\n",
       "      <td>100.0</td>\n",
       "    </tr>\n",
       "    <tr>\n",
       "      <th>2008</th>\n",
       "      <td>44</td>\n",
       "      <td>32.2</td>\n",
       "      <td>100.0</td>\n",
       "    </tr>\n",
       "    <tr>\n",
       "      <th>2009</th>\n",
       "      <td>44</td>\n",
       "      <td>35.0</td>\n",
       "      <td>100.0</td>\n",
       "    </tr>\n",
       "    <tr>\n",
       "      <th>2010</th>\n",
       "      <td>44</td>\n",
       "      <td>33.6</td>\n",
       "      <td>100.0</td>\n",
       "    </tr>\n",
       "    <tr>\n",
       "      <th>2011</th>\n",
       "      <td>44</td>\n",
       "      <td>30.7</td>\n",
       "      <td>100.0</td>\n",
       "    </tr>\n",
       "    <tr>\n",
       "      <th>2012</th>\n",
       "      <td>44</td>\n",
       "      <td>37.0</td>\n",
       "      <td>100.0</td>\n",
       "    </tr>\n",
       "    <tr>\n",
       "      <th>2013</th>\n",
       "      <td>44</td>\n",
       "      <td>34.2</td>\n",
       "      <td>100.0</td>\n",
       "    </tr>\n",
       "    <tr>\n",
       "      <th>2014</th>\n",
       "      <td>44</td>\n",
       "      <td>32.2</td>\n",
       "      <td>100.0</td>\n",
       "    </tr>\n",
       "    <tr>\n",
       "      <th>2015</th>\n",
       "      <td>44</td>\n",
       "      <td>35.2</td>\n",
       "      <td>100.0</td>\n",
       "    </tr>\n",
       "    <tr>\n",
       "      <th>2016</th>\n",
       "      <td>44</td>\n",
       "      <td>32.2</td>\n",
       "      <td>100.0</td>\n",
       "    </tr>\n",
       "    <tr>\n",
       "      <th>2017</th>\n",
       "      <td>44</td>\n",
       "      <td>32.6</td>\n",
       "      <td>100.0</td>\n",
       "    </tr>\n",
       "    <tr>\n",
       "      <th>2018</th>\n",
       "      <td>44</td>\n",
       "      <td>35.8</td>\n",
       "      <td>100.0</td>\n",
       "    </tr>\n",
       "    <tr>\n",
       "      <th>2019</th>\n",
       "      <td>44</td>\n",
       "      <td>36.4</td>\n",
       "      <td>100.0</td>\n",
       "    </tr>\n",
       "    <tr>\n",
       "      <th>2020</th>\n",
       "      <td>44</td>\n",
       "      <td>34.2</td>\n",
       "      <td>100.0</td>\n",
       "    </tr>\n",
       "  </tbody>\n",
       "</table>\n",
       "</div>"
      ],
      "text/plain": [
       "      STATIONS_ID  Temp     RF\n",
       "Year                          \n",
       "2007           44  30.9  100.0\n",
       "2008           44  32.2  100.0\n",
       "2009           44  35.0  100.0\n",
       "2010           44  33.6  100.0\n",
       "2011           44  30.7  100.0\n",
       "2012           44  37.0  100.0\n",
       "2013           44  34.2  100.0\n",
       "2014           44  32.2  100.0\n",
       "2015           44  35.2  100.0\n",
       "2016           44  32.2  100.0\n",
       "2017           44  32.6  100.0\n",
       "2018           44  35.8  100.0\n",
       "2019           44  36.4  100.0\n",
       "2020           44  34.2  100.0"
      ]
     },
     "execution_count": 132,
     "metadata": {},
     "output_type": "execute_result"
    }
   ],
   "source": [
    "dwd_yearly_max"
   ]
  },
  {
   "cell_type": "markdown",
   "id": "4656e09d-b056-4f95-8e39-b59fbd6b62b7",
   "metadata": {},
   "source": [
    "And this can also be done per month"
   ]
  },
  {
   "cell_type": "code",
   "execution_count": 133,
   "id": "d3c3562c-cc32-4f94-9bba-e1c9a6625f66",
   "metadata": {},
   "outputs": [],
   "source": [
    "dwd_44_date['Month'] = dwd_44_date.index.month_name()"
   ]
  },
  {
   "cell_type": "code",
   "execution_count": 134,
   "id": "37beb670-eff6-4e0d-b2b3-3363b5c10659",
   "metadata": {},
   "outputs": [
    {
     "data": {
      "text/html": [
       "<div>\n",
       "<style scoped>\n",
       "    .dataframe tbody tr th:only-of-type {\n",
       "        vertical-align: middle;\n",
       "    }\n",
       "\n",
       "    .dataframe tbody tr th {\n",
       "        vertical-align: top;\n",
       "    }\n",
       "\n",
       "    .dataframe thead th {\n",
       "        text-align: right;\n",
       "    }\n",
       "</style>\n",
       "<table border=\"1\" class=\"dataframe\">\n",
       "  <thead>\n",
       "    <tr style=\"text-align: right;\">\n",
       "      <th></th>\n",
       "      <th>STATIONS_ID</th>\n",
       "      <th>Temp</th>\n",
       "      <th>RF</th>\n",
       "      <th>Year</th>\n",
       "      <th>Month</th>\n",
       "    </tr>\n",
       "    <tr>\n",
       "      <th>TIME</th>\n",
       "      <th></th>\n",
       "      <th></th>\n",
       "      <th></th>\n",
       "      <th></th>\n",
       "      <th></th>\n",
       "    </tr>\n",
       "  </thead>\n",
       "  <tbody>\n",
       "    <tr>\n",
       "      <th>2007-04-01 00:00:00</th>\n",
       "      <td>44</td>\n",
       "      <td>7.3</td>\n",
       "      <td>78.0</td>\n",
       "      <td>2007</td>\n",
       "      <td>April</td>\n",
       "    </tr>\n",
       "    <tr>\n",
       "      <th>2007-04-01 01:00:00</th>\n",
       "      <td>44</td>\n",
       "      <td>6.4</td>\n",
       "      <td>79.0</td>\n",
       "      <td>2007</td>\n",
       "      <td>April</td>\n",
       "    </tr>\n",
       "    <tr>\n",
       "      <th>2007-04-01 02:00:00</th>\n",
       "      <td>44</td>\n",
       "      <td>5.4</td>\n",
       "      <td>80.0</td>\n",
       "      <td>2007</td>\n",
       "      <td>April</td>\n",
       "    </tr>\n",
       "    <tr>\n",
       "      <th>2007-04-01 03:00:00</th>\n",
       "      <td>44</td>\n",
       "      <td>4.9</td>\n",
       "      <td>80.0</td>\n",
       "      <td>2007</td>\n",
       "      <td>April</td>\n",
       "    </tr>\n",
       "    <tr>\n",
       "      <th>2007-04-01 04:00:00</th>\n",
       "      <td>44</td>\n",
       "      <td>4.5</td>\n",
       "      <td>77.0</td>\n",
       "      <td>2007</td>\n",
       "      <td>April</td>\n",
       "    </tr>\n",
       "  </tbody>\n",
       "</table>\n",
       "</div>"
      ],
      "text/plain": [
       "                     STATIONS_ID  Temp    RF  Year  Month\n",
       "TIME                                                     \n",
       "2007-04-01 00:00:00           44   7.3  78.0  2007  April\n",
       "2007-04-01 01:00:00           44   6.4  79.0  2007  April\n",
       "2007-04-01 02:00:00           44   5.4  80.0  2007  April\n",
       "2007-04-01 03:00:00           44   4.9  80.0  2007  April\n",
       "2007-04-01 04:00:00           44   4.5  77.0  2007  April"
      ]
     },
     "execution_count": 134,
     "metadata": {},
     "output_type": "execute_result"
    }
   ],
   "source": [
    "dwd_44_date.head()"
   ]
  },
  {
   "cell_type": "code",
   "execution_count": 141,
   "id": "4da12110-dc9f-4b71-8803-c381e255c8b9",
   "metadata": {},
   "outputs": [],
   "source": [
    "dwd_monthly_mean = dwd_44_date.groupby('Month').mean()"
   ]
  },
  {
   "cell_type": "code",
   "execution_count": 142,
   "id": "4518576f-a0a1-4fa3-946a-fb00d8762125",
   "metadata": {},
   "outputs": [
    {
     "data": {
      "text/html": [
       "<div>\n",
       "<style scoped>\n",
       "    .dataframe tbody tr th:only-of-type {\n",
       "        vertical-align: middle;\n",
       "    }\n",
       "\n",
       "    .dataframe tbody tr th {\n",
       "        vertical-align: top;\n",
       "    }\n",
       "\n",
       "    .dataframe thead th {\n",
       "        text-align: right;\n",
       "    }\n",
       "</style>\n",
       "<table border=\"1\" class=\"dataframe\">\n",
       "  <thead>\n",
       "    <tr style=\"text-align: right;\">\n",
       "      <th></th>\n",
       "      <th>STATIONS_ID</th>\n",
       "      <th>Temp</th>\n",
       "      <th>RF</th>\n",
       "      <th>Year</th>\n",
       "    </tr>\n",
       "    <tr>\n",
       "      <th>Month</th>\n",
       "      <th></th>\n",
       "      <th></th>\n",
       "      <th></th>\n",
       "      <th></th>\n",
       "    </tr>\n",
       "  </thead>\n",
       "  <tbody>\n",
       "    <tr>\n",
       "      <th>April</th>\n",
       "      <td>44.0</td>\n",
       "      <td>9.767856</td>\n",
       "      <td>72.864766</td>\n",
       "      <td>2013.500000</td>\n",
       "    </tr>\n",
       "    <tr>\n",
       "      <th>August</th>\n",
       "      <td>44.0</td>\n",
       "      <td>17.600307</td>\n",
       "      <td>79.298579</td>\n",
       "      <td>2013.500000</td>\n",
       "    </tr>\n",
       "    <tr>\n",
       "      <th>December</th>\n",
       "      <td>44.0</td>\n",
       "      <td>3.813427</td>\n",
       "      <td>91.520540</td>\n",
       "      <td>2013.669688</td>\n",
       "    </tr>\n",
       "    <tr>\n",
       "      <th>February</th>\n",
       "      <td>44.0</td>\n",
       "      <td>2.720652</td>\n",
       "      <td>85.905344</td>\n",
       "      <td>2014.000000</td>\n",
       "    </tr>\n",
       "    <tr>\n",
       "      <th>January</th>\n",
       "      <td>44.0</td>\n",
       "      <td>2.154465</td>\n",
       "      <td>90.808036</td>\n",
       "      <td>2014.104134</td>\n",
       "    </tr>\n",
       "    <tr>\n",
       "      <th>July</th>\n",
       "      <td>44.0</td>\n",
       "      <td>17.878683</td>\n",
       "      <td>77.827766</td>\n",
       "      <td>2013.496962</td>\n",
       "    </tr>\n",
       "    <tr>\n",
       "      <th>June</th>\n",
       "      <td>44.0</td>\n",
       "      <td>16.294067</td>\n",
       "      <td>76.296929</td>\n",
       "      <td>2013.500298</td>\n",
       "    </tr>\n",
       "    <tr>\n",
       "      <th>March</th>\n",
       "      <td>44.0</td>\n",
       "      <td>5.345058</td>\n",
       "      <td>80.603805</td>\n",
       "      <td>2014.000000</td>\n",
       "    </tr>\n",
       "    <tr>\n",
       "      <th>May</th>\n",
       "      <td>44.0</td>\n",
       "      <td>13.256941</td>\n",
       "      <td>72.161098</td>\n",
       "      <td>2013.500000</td>\n",
       "    </tr>\n",
       "    <tr>\n",
       "      <th>November</th>\n",
       "      <td>44.0</td>\n",
       "      <td>6.326038</td>\n",
       "      <td>91.261612</td>\n",
       "      <td>2013.546961</td>\n",
       "    </tr>\n",
       "    <tr>\n",
       "      <th>October</th>\n",
       "      <td>44.0</td>\n",
       "      <td>10.310887</td>\n",
       "      <td>87.527170</td>\n",
       "      <td>2013.500000</td>\n",
       "    </tr>\n",
       "    <tr>\n",
       "      <th>September</th>\n",
       "      <td>44.0</td>\n",
       "      <td>14.082183</td>\n",
       "      <td>83.325992</td>\n",
       "      <td>2013.500000</td>\n",
       "    </tr>\n",
       "  </tbody>\n",
       "</table>\n",
       "</div>"
      ],
      "text/plain": [
       "           STATIONS_ID       Temp         RF         Year\n",
       "Month                                                    \n",
       "April             44.0   9.767856  72.864766  2013.500000\n",
       "August            44.0  17.600307  79.298579  2013.500000\n",
       "December          44.0   3.813427  91.520540  2013.669688\n",
       "February          44.0   2.720652  85.905344  2014.000000\n",
       "January           44.0   2.154465  90.808036  2014.104134\n",
       "July              44.0  17.878683  77.827766  2013.496962\n",
       "June              44.0  16.294067  76.296929  2013.500298\n",
       "March             44.0   5.345058  80.603805  2014.000000\n",
       "May               44.0  13.256941  72.161098  2013.500000\n",
       "November          44.0   6.326038  91.261612  2013.546961\n",
       "October           44.0  10.310887  87.527170  2013.500000\n",
       "September         44.0  14.082183  83.325992  2013.500000"
      ]
     },
     "execution_count": 142,
     "metadata": {},
     "output_type": "execute_result"
    }
   ],
   "source": [
    "dwd_monthly_mean"
   ]
  },
  {
   "cell_type": "code",
   "execution_count": 143,
   "id": "a3048640-4934-40a6-9cb3-bb1323d1d444",
   "metadata": {},
   "outputs": [],
   "source": [
    "dwd_monthly_mean.drop(['STATIONS_ID', 'Year'], axis = 1, inplace = True)"
   ]
  },
  {
   "cell_type": "code",
   "execution_count": 144,
   "id": "9180a82c-4318-47f7-8c37-f12c28254863",
   "metadata": {},
   "outputs": [
    {
     "data": {
      "text/html": [
       "<div>\n",
       "<style scoped>\n",
       "    .dataframe tbody tr th:only-of-type {\n",
       "        vertical-align: middle;\n",
       "    }\n",
       "\n",
       "    .dataframe tbody tr th {\n",
       "        vertical-align: top;\n",
       "    }\n",
       "\n",
       "    .dataframe thead th {\n",
       "        text-align: right;\n",
       "    }\n",
       "</style>\n",
       "<table border=\"1\" class=\"dataframe\">\n",
       "  <thead>\n",
       "    <tr style=\"text-align: right;\">\n",
       "      <th></th>\n",
       "      <th>Temp</th>\n",
       "      <th>RF</th>\n",
       "    </tr>\n",
       "    <tr>\n",
       "      <th>Month</th>\n",
       "      <th></th>\n",
       "      <th></th>\n",
       "    </tr>\n",
       "  </thead>\n",
       "  <tbody>\n",
       "    <tr>\n",
       "      <th>April</th>\n",
       "      <td>9.767856</td>\n",
       "      <td>72.864766</td>\n",
       "    </tr>\n",
       "    <tr>\n",
       "      <th>August</th>\n",
       "      <td>17.600307</td>\n",
       "      <td>79.298579</td>\n",
       "    </tr>\n",
       "    <tr>\n",
       "      <th>December</th>\n",
       "      <td>3.813427</td>\n",
       "      <td>91.520540</td>\n",
       "    </tr>\n",
       "    <tr>\n",
       "      <th>February</th>\n",
       "      <td>2.720652</td>\n",
       "      <td>85.905344</td>\n",
       "    </tr>\n",
       "    <tr>\n",
       "      <th>January</th>\n",
       "      <td>2.154465</td>\n",
       "      <td>90.808036</td>\n",
       "    </tr>\n",
       "    <tr>\n",
       "      <th>July</th>\n",
       "      <td>17.878683</td>\n",
       "      <td>77.827766</td>\n",
       "    </tr>\n",
       "    <tr>\n",
       "      <th>June</th>\n",
       "      <td>16.294067</td>\n",
       "      <td>76.296929</td>\n",
       "    </tr>\n",
       "    <tr>\n",
       "      <th>March</th>\n",
       "      <td>5.345058</td>\n",
       "      <td>80.603805</td>\n",
       "    </tr>\n",
       "    <tr>\n",
       "      <th>May</th>\n",
       "      <td>13.256941</td>\n",
       "      <td>72.161098</td>\n",
       "    </tr>\n",
       "    <tr>\n",
       "      <th>November</th>\n",
       "      <td>6.326038</td>\n",
       "      <td>91.261612</td>\n",
       "    </tr>\n",
       "    <tr>\n",
       "      <th>October</th>\n",
       "      <td>10.310887</td>\n",
       "      <td>87.527170</td>\n",
       "    </tr>\n",
       "    <tr>\n",
       "      <th>September</th>\n",
       "      <td>14.082183</td>\n",
       "      <td>83.325992</td>\n",
       "    </tr>\n",
       "  </tbody>\n",
       "</table>\n",
       "</div>"
      ],
      "text/plain": [
       "                Temp         RF\n",
       "Month                          \n",
       "April       9.767856  72.864766\n",
       "August     17.600307  79.298579\n",
       "December    3.813427  91.520540\n",
       "February    2.720652  85.905344\n",
       "January     2.154465  90.808036\n",
       "July       17.878683  77.827766\n",
       "June       16.294067  76.296929\n",
       "March       5.345058  80.603805\n",
       "May        13.256941  72.161098\n",
       "November    6.326038  91.261612\n",
       "October    10.310887  87.527170\n",
       "September  14.082183  83.325992"
      ]
     },
     "execution_count": 144,
     "metadata": {},
     "output_type": "execute_result"
    }
   ],
   "source": [
    "dwd_monthly_mean"
   ]
  },
  {
   "cell_type": "code",
   "execution_count": 146,
   "id": "99e94c83-830c-4950-b5f4-c0ced8067f66",
   "metadata": {},
   "outputs": [
    {
     "data": {
      "image/png": "[encoded data removed]",
      "text/plain": [
       "<Figure size 640x480 with 1 Axes>"
      ]
     },
     "metadata": {},
     "output_type": "display_data"
    }
   ],
   "source": [
    "dwd_monthy_mean.plot()\n",
    "\n",
    "plt.annotate('Source: Deutscher Wetterdienst', xy=(0,1), xycoords='figure points')\n",
    "\n",
    "plt.show()\n",
    "plt.close()"
   ]
  },
  {
   "cell_type": "code",
   "execution_count": 147,
   "id": "163dec3e-113f-4528-b175-4f1748680f40",
   "metadata": {},
   "outputs": [
    {
     "data": {
      "image/png": "[encoded data removed]",
      "text/plain": [
       "<Figure size 640x480 with 1 Axes>"
      ]
     },
     "metadata": {},
     "output_type": "display_data"
    }
   ],
   "source": [
    "# we can alse use a bar plot\n",
    "dwd_monthly_mean.plot(kind='bar')\n",
    "\n",
    "plt.show()\n",
    "plt.close()"
   ]
  },
  {
   "cell_type": "code",
   "execution_count": 148,
   "id": "31ad31d9-f6ba-4331-bcee-300d2312cd61",
   "metadata": {},
   "outputs": [
    {
     "data": {
      "image/png": "[encoded data removed]",
      "text/plain": [
       "<Figure size 640x480 with 1 Axes>"
      ]
     },
     "metadata": {},
     "output_type": "display_data"
    }
   ],
   "source": [
    "# or plot just one column\n",
    "dwd_monthly_mean['Temp'].plot(kind='bar')\n",
    "\n",
    "plt.show()\n",
    "plt.close()"
   ]
  },
  {
   "cell_type": "markdown",
   "id": "a930eb02-34ad-4903-94e7-1ba066aca6f6",
   "metadata": {},
   "source": [
    "## Combining data\n",
    "We can also combine multiple datasets into one single dataset. E.g. We want to combine the data for 2010 with the data for 2020"
   ]
  },
  {
   "cell_type": "code",
   "execution_count": 149,
   "id": "2536bb8f-15d8-4a69-99e1-266f946e667b",
   "metadata": {},
   "outputs": [
    {
     "data": {
      "text/html": [
       "<div>\n",
       "<style scoped>\n",
       "    .dataframe tbody tr th:only-of-type {\n",
       "        vertical-align: middle;\n",
       "    }\n",
       "\n",
       "    .dataframe tbody tr th {\n",
       "        vertical-align: top;\n",
       "    }\n",
       "\n",
       "    .dataframe thead th {\n",
       "        text-align: right;\n",
       "    }\n",
       "</style>\n",
       "<table border=\"1\" class=\"dataframe\">\n",
       "  <thead>\n",
       "    <tr style=\"text-align: right;\">\n",
       "      <th></th>\n",
       "      <th>STATIONS_ID</th>\n",
       "      <th>Temp</th>\n",
       "      <th>RF</th>\n",
       "      <th>Year</th>\n",
       "      <th>Month</th>\n",
       "    </tr>\n",
       "    <tr>\n",
       "      <th>TIME</th>\n",
       "      <th></th>\n",
       "      <th></th>\n",
       "      <th></th>\n",
       "      <th></th>\n",
       "      <th></th>\n",
       "    </tr>\n",
       "  </thead>\n",
       "  <tbody>\n",
       "    <tr>\n",
       "      <th>2007-04-01 00:00:00</th>\n",
       "      <td>44</td>\n",
       "      <td>7.3</td>\n",
       "      <td>78.0</td>\n",
       "      <td>2007</td>\n",
       "      <td>April</td>\n",
       "    </tr>\n",
       "    <tr>\n",
       "      <th>2007-04-01 01:00:00</th>\n",
       "      <td>44</td>\n",
       "      <td>6.4</td>\n",
       "      <td>79.0</td>\n",
       "      <td>2007</td>\n",
       "      <td>April</td>\n",
       "    </tr>\n",
       "  </tbody>\n",
       "</table>\n",
       "</div>"
      ],
      "text/plain": [
       "                     STATIONS_ID  Temp    RF  Year  Month\n",
       "TIME                                                     \n",
       "2007-04-01 00:00:00           44   7.3  78.0  2007  April\n",
       "2007-04-01 01:00:00           44   6.4  79.0  2007  April"
      ]
     },
     "execution_count": 149,
     "metadata": {},
     "output_type": "execute_result"
    }
   ],
   "source": [
    "dwd_44_date.head(2)"
   ]
  },
  {
   "cell_type": "code",
   "execution_count": 151,
   "id": "76447ec8-905e-4bc8-8e3d-13be4261b86b",
   "metadata": {},
   "outputs": [],
   "source": [
    "dwd_2010 = dwd_44_date.where(dwd_44_date['Year'] == 2010)"
   ]
  },
  {
   "cell_type": "code",
   "execution_count": 154,
   "id": "e77cd180-75f2-432a-8e43-2bb252eabab5",
   "metadata": {},
   "outputs": [
    {
     "data": {
      "text/html": [
       "<div>\n",
       "<style scoped>\n",
       "    .dataframe tbody tr th:only-of-type {\n",
       "        vertical-align: middle;\n",
       "    }\n",
       "\n",
       "    .dataframe tbody tr th {\n",
       "        vertical-align: top;\n",
       "    }\n",
       "\n",
       "    .dataframe thead th {\n",
       "        text-align: right;\n",
       "    }\n",
       "</style>\n",
       "<table border=\"1\" class=\"dataframe\">\n",
       "  <thead>\n",
       "    <tr style=\"text-align: right;\">\n",
       "      <th></th>\n",
       "      <th>STATIONS_ID</th>\n",
       "      <th>Temp</th>\n",
       "      <th>RF</th>\n",
       "      <th>Year</th>\n",
       "      <th>Month</th>\n",
       "    </tr>\n",
       "    <tr>\n",
       "      <th>TIME</th>\n",
       "      <th></th>\n",
       "      <th></th>\n",
       "      <th></th>\n",
       "      <th></th>\n",
       "      <th></th>\n",
       "    </tr>\n",
       "  </thead>\n",
       "  <tbody>\n",
       "    <tr>\n",
       "      <th>2007-04-01 00:00:00</th>\n",
       "      <td>NaN</td>\n",
       "      <td>NaN</td>\n",
       "      <td>NaN</td>\n",
       "      <td>NaN</td>\n",
       "      <td>NaN</td>\n",
       "    </tr>\n",
       "    <tr>\n",
       "      <th>2007-04-01 01:00:00</th>\n",
       "      <td>NaN</td>\n",
       "      <td>NaN</td>\n",
       "      <td>NaN</td>\n",
       "      <td>NaN</td>\n",
       "      <td>NaN</td>\n",
       "    </tr>\n",
       "  </tbody>\n",
       "</table>\n",
       "</div>"
      ],
      "text/plain": [
       "                     STATIONS_ID  Temp  RF  Year Month\n",
       "TIME                                                  \n",
       "2007-04-01 00:00:00          NaN   NaN NaN   NaN   NaN\n",
       "2007-04-01 01:00:00          NaN   NaN NaN   NaN   NaN"
      ]
     },
     "execution_count": 154,
     "metadata": {},
     "output_type": "execute_result"
    }
   ],
   "source": [
    "dwd_2010.head(2)"
   ]
  },
  {
   "cell_type": "code",
   "execution_count": 155,
   "id": "fb6a6ad6-97b4-4b41-a279-d382d993605e",
   "metadata": {},
   "outputs": [],
   "source": [
    "dwd_2010.dropna(inplace = True)"
   ]
  },
  {
   "cell_type": "code",
   "execution_count": 156,
   "id": "41abcf8f-65d3-414e-b2fe-0f78a49ba18b",
   "metadata": {},
   "outputs": [
    {
     "data": {
      "text/html": [
       "<div>\n",
       "<style scoped>\n",
       "    .dataframe tbody tr th:only-of-type {\n",
       "        vertical-align: middle;\n",
       "    }\n",
       "\n",
       "    .dataframe tbody tr th {\n",
       "        vertical-align: top;\n",
       "    }\n",
       "\n",
       "    .dataframe thead th {\n",
       "        text-align: right;\n",
       "    }\n",
       "</style>\n",
       "<table border=\"1\" class=\"dataframe\">\n",
       "  <thead>\n",
       "    <tr style=\"text-align: right;\">\n",
       "      <th></th>\n",
       "      <th>STATIONS_ID</th>\n",
       "      <th>Temp</th>\n",
       "      <th>RF</th>\n",
       "      <th>Year</th>\n",
       "      <th>Month</th>\n",
       "    </tr>\n",
       "    <tr>\n",
       "      <th>TIME</th>\n",
       "      <th></th>\n",
       "      <th></th>\n",
       "      <th></th>\n",
       "      <th></th>\n",
       "      <th></th>\n",
       "    </tr>\n",
       "  </thead>\n",
       "  <tbody>\n",
       "    <tr>\n",
       "      <th>2010-01-01 00:00:00</th>\n",
       "      <td>44.0</td>\n",
       "      <td>-0.1</td>\n",
       "      <td>72.0</td>\n",
       "      <td>2010.0</td>\n",
       "      <td>January</td>\n",
       "    </tr>\n",
       "    <tr>\n",
       "      <th>2010-01-01 01:00:00</th>\n",
       "      <td>44.0</td>\n",
       "      <td>-0.3</td>\n",
       "      <td>76.0</td>\n",
       "      <td>2010.0</td>\n",
       "      <td>January</td>\n",
       "    </tr>\n",
       "  </tbody>\n",
       "</table>\n",
       "</div>"
      ],
      "text/plain": [
       "                     STATIONS_ID  Temp    RF    Year    Month\n",
       "TIME                                                         \n",
       "2010-01-01 00:00:00         44.0  -0.1  72.0  2010.0  January\n",
       "2010-01-01 01:00:00         44.0  -0.3  76.0  2010.0  January"
      ]
     },
     "execution_count": 156,
     "metadata": {},
     "output_type": "execute_result"
    }
   ],
   "source": [
    "dwd_2010.head(2)"
   ]
  },
  {
   "cell_type": "code",
   "execution_count": 158,
   "id": "818093d2-d767-4713-89ed-f0932113321e",
   "metadata": {},
   "outputs": [],
   "source": [
    "# And we do the same for 2020:\n",
    "\n",
    "dwd_2020 = dwd_44_date.where(dwd_44_date['Year'] == 2020)\n",
    "dwd_2020.dropna(inplace = True)"
   ]
  },
  {
   "cell_type": "code",
   "execution_count": 160,
   "id": "88d935f1-3cb6-4f2c-be1b-92c038a4234e",
   "metadata": {},
   "outputs": [
    {
     "data": {
      "text/html": [
       "<div>\n",
       "<style scoped>\n",
       "    .dataframe tbody tr th:only-of-type {\n",
       "        vertical-align: middle;\n",
       "    }\n",
       "\n",
       "    .dataframe tbody tr th {\n",
       "        vertical-align: top;\n",
       "    }\n",
       "\n",
       "    .dataframe thead th {\n",
       "        text-align: right;\n",
       "    }\n",
       "</style>\n",
       "<table border=\"1\" class=\"dataframe\">\n",
       "  <thead>\n",
       "    <tr style=\"text-align: right;\">\n",
       "      <th></th>\n",
       "      <th>STATIONS_ID</th>\n",
       "      <th>Temp</th>\n",
       "      <th>RF</th>\n",
       "      <th>Year</th>\n",
       "      <th>Month</th>\n",
       "    </tr>\n",
       "    <tr>\n",
       "      <th>TIME</th>\n",
       "      <th></th>\n",
       "      <th></th>\n",
       "      <th></th>\n",
       "      <th></th>\n",
       "      <th></th>\n",
       "    </tr>\n",
       "  </thead>\n",
       "  <tbody>\n",
       "    <tr>\n",
       "      <th>2020-01-01 00:00:00</th>\n",
       "      <td>44.0</td>\n",
       "      <td>0.1</td>\n",
       "      <td>98.0</td>\n",
       "      <td>2020.0</td>\n",
       "      <td>January</td>\n",
       "    </tr>\n",
       "    <tr>\n",
       "      <th>2020-01-01 01:00:00</th>\n",
       "      <td>44.0</td>\n",
       "      <td>-0.4</td>\n",
       "      <td>99.0</td>\n",
       "      <td>2020.0</td>\n",
       "      <td>January</td>\n",
       "    </tr>\n",
       "  </tbody>\n",
       "</table>\n",
       "</div>"
      ],
      "text/plain": [
       "                     STATIONS_ID  Temp    RF    Year    Month\n",
       "TIME                                                         \n",
       "2020-01-01 00:00:00         44.0   0.1  98.0  2020.0  January\n",
       "2020-01-01 01:00:00         44.0  -0.4  99.0  2020.0  January"
      ]
     },
     "execution_count": 160,
     "metadata": {},
     "output_type": "execute_result"
    }
   ],
   "source": [
    "dwd_2020.head(2)"
   ]
  },
  {
   "cell_type": "code",
   "execution_count": 161,
   "id": "450c8b1f-97f9-4df0-aebe-c820f957035a",
   "metadata": {},
   "outputs": [],
   "source": [
    "# to combine both, we use pd,concate, to concatenate both dataframe\n",
    "\n",
    "dwd_10_20 = pd.concat([dwd_2010, dwd_2020])"
   ]
  },
  {
   "cell_type": "code",
   "execution_count": 162,
   "id": "ca9a5872-b5d8-4c9e-a87f-abec00bf8c03",
   "metadata": {},
   "outputs": [
    {
     "data": {
      "text/html": [
       "<div>\n",
       "<style scoped>\n",
       "    .dataframe tbody tr th:only-of-type {\n",
       "        vertical-align: middle;\n",
       "    }\n",
       "\n",
       "    .dataframe tbody tr th {\n",
       "        vertical-align: top;\n",
       "    }\n",
       "\n",
       "    .dataframe thead th {\n",
       "        text-align: right;\n",
       "    }\n",
       "</style>\n",
       "<table border=\"1\" class=\"dataframe\">\n",
       "  <thead>\n",
       "    <tr style=\"text-align: right;\">\n",
       "      <th></th>\n",
       "      <th>STATIONS_ID</th>\n",
       "      <th>Temp</th>\n",
       "      <th>RF</th>\n",
       "      <th>Year</th>\n",
       "      <th>Month</th>\n",
       "    </tr>\n",
       "    <tr>\n",
       "      <th>TIME</th>\n",
       "      <th></th>\n",
       "      <th></th>\n",
       "      <th></th>\n",
       "      <th></th>\n",
       "      <th></th>\n",
       "    </tr>\n",
       "  </thead>\n",
       "  <tbody>\n",
       "    <tr>\n",
       "      <th>2010-01-01 00:00:00</th>\n",
       "      <td>44.0</td>\n",
       "      <td>-0.1</td>\n",
       "      <td>72.0</td>\n",
       "      <td>2010.0</td>\n",
       "      <td>January</td>\n",
       "    </tr>\n",
       "    <tr>\n",
       "      <th>2010-01-01 01:00:00</th>\n",
       "      <td>44.0</td>\n",
       "      <td>-0.3</td>\n",
       "      <td>76.0</td>\n",
       "      <td>2010.0</td>\n",
       "      <td>January</td>\n",
       "    </tr>\n",
       "    <tr>\n",
       "      <th>2010-01-01 02:00:00</th>\n",
       "      <td>44.0</td>\n",
       "      <td>-0.7</td>\n",
       "      <td>81.0</td>\n",
       "      <td>2010.0</td>\n",
       "      <td>January</td>\n",
       "    </tr>\n",
       "    <tr>\n",
       "      <th>2010-01-01 03:00:00</th>\n",
       "      <td>44.0</td>\n",
       "      <td>-0.7</td>\n",
       "      <td>79.0</td>\n",
       "      <td>2010.0</td>\n",
       "      <td>January</td>\n",
       "    </tr>\n",
       "    <tr>\n",
       "      <th>2010-01-01 04:00:00</th>\n",
       "      <td>44.0</td>\n",
       "      <td>-0.7</td>\n",
       "      <td>80.0</td>\n",
       "      <td>2010.0</td>\n",
       "      <td>January</td>\n",
       "    </tr>\n",
       "    <tr>\n",
       "      <th>...</th>\n",
       "      <td>...</td>\n",
       "      <td>...</td>\n",
       "      <td>...</td>\n",
       "      <td>...</td>\n",
       "      <td>...</td>\n",
       "    </tr>\n",
       "    <tr>\n",
       "      <th>2020-12-31 19:00:00</th>\n",
       "      <td>44.0</td>\n",
       "      <td>0.6</td>\n",
       "      <td>97.0</td>\n",
       "      <td>2020.0</td>\n",
       "      <td>December</td>\n",
       "    </tr>\n",
       "    <tr>\n",
       "      <th>2020-12-31 20:00:00</th>\n",
       "      <td>44.0</td>\n",
       "      <td>0.0</td>\n",
       "      <td>98.0</td>\n",
       "      <td>2020.0</td>\n",
       "      <td>December</td>\n",
       "    </tr>\n",
       "    <tr>\n",
       "      <th>2020-12-31 21:00:00</th>\n",
       "      <td>44.0</td>\n",
       "      <td>0.3</td>\n",
       "      <td>99.0</td>\n",
       "      <td>2020.0</td>\n",
       "      <td>December</td>\n",
       "    </tr>\n",
       "    <tr>\n",
       "      <th>2020-12-31 22:00:00</th>\n",
       "      <td>44.0</td>\n",
       "      <td>1.2</td>\n",
       "      <td>97.0</td>\n",
       "      <td>2020.0</td>\n",
       "      <td>December</td>\n",
       "    </tr>\n",
       "    <tr>\n",
       "      <th>2020-12-31 23:00:00</th>\n",
       "      <td>44.0</td>\n",
       "      <td>1.4</td>\n",
       "      <td>93.0</td>\n",
       "      <td>2020.0</td>\n",
       "      <td>December</td>\n",
       "    </tr>\n",
       "  </tbody>\n",
       "</table>\n",
       "<p>17523 rows × 5 columns</p>\n",
       "</div>"
      ],
      "text/plain": [
       "                     STATIONS_ID  Temp    RF    Year     Month\n",
       "TIME                                                          \n",
       "2010-01-01 00:00:00         44.0  -0.1  72.0  2010.0   January\n",
       "2010-01-01 01:00:00         44.0  -0.3  76.0  2010.0   January\n",
       "2010-01-01 02:00:00         44.0  -0.7  81.0  2010.0   January\n",
       "2010-01-01 03:00:00         44.0  -0.7  79.0  2010.0   January\n",
       "2010-01-01 04:00:00         44.0  -0.7  80.0  2010.0   January\n",
       "...                          ...   ...   ...     ...       ...\n",
       "2020-12-31 19:00:00         44.0   0.6  97.0  2020.0  December\n",
       "2020-12-31 20:00:00         44.0   0.0  98.0  2020.0  December\n",
       "2020-12-31 21:00:00         44.0   0.3  99.0  2020.0  December\n",
       "2020-12-31 22:00:00         44.0   1.2  97.0  2020.0  December\n",
       "2020-12-31 23:00:00         44.0   1.4  93.0  2020.0  December\n",
       "\n",
       "[17523 rows x 5 columns]"
      ]
     },
     "execution_count": 162,
     "metadata": {},
     "output_type": "execute_result"
    }
   ],
   "source": [
    "dwd_10_20"
   ]
  },
  {
   "cell_type": "markdown",
   "id": "81e373a8-fd1f-4d2d-9d39-41446fe40bda",
   "metadata": {},
   "source": [
    "This can be very useful when having the data stored in individual files, together with module like glob, os and listcomprehension one can easily combine multiple data files into one single dataframe, to save and analyse"
   ]
  },
  {
   "cell_type": "markdown",
   "id": "d596dc59-32da-4021-968b-841551eb3e4d",
   "metadata": {},
   "source": [
    "## Glob and OS\n",
    "As just said combining data from different files can be useful, for this we have to know how to open multiple files automatically, there are multiple ways to do this \\\n",
    "In this course we will focus on using glob"
   ]
  },
  {
   "cell_type": "code",
   "execution_count": 163,
   "id": "7b83f9d1-5c2b-41bb-b6c2-90dd8c2a0eb9",
   "metadata": {},
   "outputs": [],
   "source": [
    "import glob\n",
    "import os"
   ]
  },
  {
   "cell_type": "markdown",
   "id": "5477cc68-a5ed-47e2-9862-ee7c3c517642",
   "metadata": {},
   "source": [
    "In the directory data/ammda/2021 you will find the data for one more stations, the data is again downlaoded from DWD as shown above"
   ]
  },
  {
   "cell_type": "code",
   "execution_count": 165,
   "id": "0cebb7c4-e4e7-4662-97bc-ffe1186b712d",
   "metadata": {},
   "outputs": [
    {
     "name": "stdout",
     "output_type": "stream",
     "text": [
      "inflammation-01.csv\n",
      "\u001b[0m\u001b[01;34mstundenwerte_TU_00044_20070401_20201231_hist\u001b[0m/\n",
      "\u001b[01;34mstundenwerte_TU_00102_20020101_20201231_hist\u001b[0m/\n"
     ]
    }
   ],
   "source": [
    "ls /data/ammda/2021/"
   ]
  },
  {
   "cell_type": "code",
   "execution_count": 166,
   "id": "823e90ce-d7f6-4945-8d36-f986fa443418",
   "metadata": {},
   "outputs": [
    {
     "name": "stdout",
     "output_type": "stream",
     "text": [
      "Metadaten_Fehldaten_00044_20070401_20210329.html\n",
      "Metadaten_Fehldaten_00044_20070401_20210329.txt\n",
      "Metadaten_Fehlwerte_00044_20070401_20210329.txt\n",
      "Metadaten_Fehlwerte_Gesamt_00044.txt\n",
      "Metadaten_Geographie_00044.txt\n",
      "Metadaten_Geraete_Lufttemperatur_00044.html\n",
      "Metadaten_Geraete_Lufttemperatur_00044.txt\n",
      "Metadaten_Geraete_Rel_Feuchte_00044.html\n",
      "Metadaten_Geraete_Rel_Feuchte_00044.txt\n",
      "Metadaten_Parameter_tu_stunde_00044.html\n",
      "Metadaten_Parameter_tu_stunde_00044.txt\n",
      "Metadaten_Stationsname_00044.html\n",
      "Metadaten_Stationsname_00044.txt\n",
      "produkt_tu_stunde_20070401_20201231_00044.txt\n",
      "Source.txt\n"
     ]
    }
   ],
   "source": [
    "ls /data/ammda/2021/stundenwerte_TU_00044_20070401_20201231_hist/"
   ]
  },
  {
   "cell_type": "code",
   "execution_count": 167,
   "id": "807fa210-86af-4d5a-8b89-6b29e01a3b68",
   "metadata": {},
   "outputs": [
    {
     "name": "stdout",
     "output_type": "stream",
     "text": [
      "Metadaten_Fehldaten_00102_20020101_20210329.html\n",
      "Metadaten_Fehldaten_00102_20020101_20210329.txt\n",
      "Metadaten_Fehlwerte_00102_20020101_20210329.txt\n",
      "Metadaten_Fehlwerte_Gesamt_00102.txt\n",
      "Metadaten_Geographie_00102.txt\n",
      "Metadaten_Geraete_Lufttemperatur_00102.html\n",
      "Metadaten_Geraete_Lufttemperatur_00102.txt\n",
      "Metadaten_Geraete_Rel_Feuchte_00102.html\n",
      "Metadaten_Geraete_Rel_Feuchte_00102.txt\n",
      "Metadaten_Parameter_tu_stunde_00102.html\n",
      "Metadaten_Parameter_tu_stunde_00102.txt\n",
      "Metadaten_Stationsname_00102.html\n",
      "Metadaten_Stationsname_00102.txt\n",
      "produkt_tu_stunde_20020101_20201231_00102.txt\n"
     ]
    }
   ],
   "source": [
    "ls /data/ammda/2021/stundenwerte_TU_00102_20020101_20201231_hist/"
   ]
  },
  {
   "cell_type": "code",
   "execution_count": 169,
   "id": "4981dd1e-bb1b-4337-bfc6-aae0f6fd7d77",
   "metadata": {},
   "outputs": [
    {
     "data": {
      "text/plain": [
       "['/data/ammda/2021/stundenwerte_TU_00102_20020101_20201231_hist/produkt_tu_stunde_20020101_20201231_00102.txt',\n",
       " '/data/ammda/2021/stundenwerte_TU_00044_20070401_20201231_hist/produkt_tu_stunde_20070401_20201231_00044.txt']"
      ]
     },
     "execution_count": 169,
     "metadata": {},
     "output_type": "execute_result"
    }
   ],
   "source": [
    "glob.glob('/data/ammda/2021/stundenwerte_TU_*/produkt_*')"
   ]
  },
  {
   "cell_type": "code",
   "execution_count": 170,
   "id": "1c161188-df6b-4053-b0a2-08feafcfad94",
   "metadata": {},
   "outputs": [
    {
     "name": "stdout",
     "output_type": "stream",
     "text": [
      "/data/ammda/2021/stundenwerte_TU_00102_20020101_20201231_hist/produkt_tu_stunde_20020101_20201231_00102.txt\n",
      "/data/ammda/2021/stundenwerte_TU_00044_20070401_20201231_hist/produkt_tu_stunde_20070401_20201231_00044.txt\n"
     ]
    }
   ],
   "source": [
    "filelist = glob.glob('/data/ammda/2021/stundenwerte_TU_*/produkt_*')\n",
    "\n",
    "for file in filelist:\n",
    "    print(file)"
   ]
  },
  {
   "cell_type": "markdown",
   "id": "fe4b35e0-8582-4b4d-8bfb-946f0f2eace7",
   "metadata": {},
   "source": [
    "Instead of printing the filename, we could use it in the read_csv we used in the beginning of this lesson"
   ]
  },
  {
   "cell_type": "code",
   "execution_count": 172,
   "id": "ef06574d-9522-418d-966c-c0a8a4926395",
   "metadata": {},
   "outputs": [
    {
     "name": "stdout",
     "output_type": "stream",
     "text": [
      "   STATIONS_ID  MESS_DATUM  QN_9  TT_TU  RF_TU  eor\n",
      "0          102  2002010100     3    3.7   93.0  eor\n",
      "1          102  2002010101     3    3.8   90.0  eor\n",
      "2          102  2002010102     3    4.0   91.0  eor\n",
      "3          102  2002010103     3    4.6   89.0  eor\n",
      "4          102  2002010104     3    4.7   90.0  eor\n",
      "   STATIONS_ID  MESS_DATUM  QN_9  TT_TU  RF_TU  eor\n",
      "0           44  2007040100     3    7.3   78.0  eor\n",
      "1           44  2007040101     3    6.4   79.0  eor\n",
      "2           44  2007040102     3    5.4   80.0  eor\n",
      "3           44  2007040103     3    4.9   80.0  eor\n",
      "4           44  2007040104     3    4.5   77.0  eor\n"
     ]
    }
   ],
   "source": [
    "filelist = glob.glob('/data/ammda/2021/stundenwerte_TU_*/produkt_*')\n",
    "\n",
    "for file in filelist:\n",
    "    data = pd.read_csv(file, sep=';')\n",
    "    print(data.head())"
   ]
  },
  {
   "cell_type": "markdown",
   "id": "d8a005c3-c68e-4181-95ec-4a58fca99659",
   "metadata": {},
   "source": [
    "You see, that we have first the station data from station 102 and afterwards station 44"
   ]
  },
  {
   "cell_type": "code",
   "execution_count": 173,
   "id": "ca2667c8-32cf-44bc-b617-b6aca75d5b08",
   "metadata": {},
   "outputs": [
    {
     "name": "stdout",
     "output_type": "stream",
     "text": [
      "                     STATIONS_ID  MESS_DATUM  TT_TU  RF_TU\n",
      "Time                                                      \n",
      "2002-01-01 00:00:00          102  2002010100    3.7   93.0\n",
      "2002-01-01 01:00:00          102  2002010101    3.8   90.0\n",
      "2002-01-01 02:00:00          102  2002010102    4.0   91.0\n",
      "2002-01-01 03:00:00          102  2002010103    4.6   89.0\n",
      "2002-01-01 04:00:00          102  2002010104    4.7   90.0\n",
      "                     STATIONS_ID  MESS_DATUM  TT_TU  RF_TU\n",
      "Time                                                      \n",
      "2007-04-01 00:00:00           44  2007040100    7.3   78.0\n",
      "2007-04-01 01:00:00           44  2007040101    6.4   79.0\n",
      "2007-04-01 02:00:00           44  2007040102    5.4   80.0\n",
      "2007-04-01 03:00:00           44  2007040103    4.9   80.0\n",
      "2007-04-01 04:00:00           44  2007040104    4.5   77.0\n"
     ]
    }
   ],
   "source": [
    "# now we can just use of the modification we did before:\n",
    "for file in filelist:\n",
    "    data = pd.read_csv(file, sep=';')\n",
    "    #creating a new column 'Time' with the measurement as a datetime object\n",
    "    data['Time'] = pd.to_datetime(data['MESS_DATUM'], format = '%Y%m%d%H')\n",
    "    #set this as an index\n",
    "    data.set_index('Time', inplace = True)\n",
    "    #and get rid of the not need columns \n",
    "    data.drop(['eor', 'QN_9'], axis = 1, inplace = True)\n",
    "    #replace the placeholder value -999 with nans\n",
    "    data.where(data != -999.0,  inplace=True)\n",
    "    #print the data to look at the result\n",
    "    print(data.head())"
   ]
  },
  {
   "cell_type": "markdown",
   "id": "8a7e9aac-6dab-4d40-baba-6746caf5dfa7",
   "metadata": {},
   "source": [
    "So you see we read and processed both datasets in the loop, but our data is overwritten in the second iteration:"
   ]
  },
  {
   "cell_type": "code",
   "execution_count": 174,
   "id": "d1f2b39d-036c-4a6b-9c57-262d7428d338",
   "metadata": {},
   "outputs": [
    {
     "data": {
      "text/html": [
       "<div>\n",
       "<style scoped>\n",
       "    .dataframe tbody tr th:only-of-type {\n",
       "        vertical-align: middle;\n",
       "    }\n",
       "\n",
       "    .dataframe tbody tr th {\n",
       "        vertical-align: top;\n",
       "    }\n",
       "\n",
       "    .dataframe thead th {\n",
       "        text-align: right;\n",
       "    }\n",
       "</style>\n",
       "<table border=\"1\" class=\"dataframe\">\n",
       "  <thead>\n",
       "    <tr style=\"text-align: right;\">\n",
       "      <th></th>\n",
       "      <th>STATIONS_ID</th>\n",
       "      <th>MESS_DATUM</th>\n",
       "      <th>TT_TU</th>\n",
       "      <th>RF_TU</th>\n",
       "    </tr>\n",
       "    <tr>\n",
       "      <th>Time</th>\n",
       "      <th></th>\n",
       "      <th></th>\n",
       "      <th></th>\n",
       "      <th></th>\n",
       "    </tr>\n",
       "  </thead>\n",
       "  <tbody>\n",
       "    <tr>\n",
       "      <th>2007-04-01 00:00:00</th>\n",
       "      <td>44</td>\n",
       "      <td>2007040100</td>\n",
       "      <td>7.3</td>\n",
       "      <td>78.0</td>\n",
       "    </tr>\n",
       "    <tr>\n",
       "      <th>2007-04-01 01:00:00</th>\n",
       "      <td>44</td>\n",
       "      <td>2007040101</td>\n",
       "      <td>6.4</td>\n",
       "      <td>79.0</td>\n",
       "    </tr>\n",
       "    <tr>\n",
       "      <th>2007-04-01 02:00:00</th>\n",
       "      <td>44</td>\n",
       "      <td>2007040102</td>\n",
       "      <td>5.4</td>\n",
       "      <td>80.0</td>\n",
       "    </tr>\n",
       "    <tr>\n",
       "      <th>2007-04-01 03:00:00</th>\n",
       "      <td>44</td>\n",
       "      <td>2007040103</td>\n",
       "      <td>4.9</td>\n",
       "      <td>80.0</td>\n",
       "    </tr>\n",
       "    <tr>\n",
       "      <th>2007-04-01 04:00:00</th>\n",
       "      <td>44</td>\n",
       "      <td>2007040104</td>\n",
       "      <td>4.5</td>\n",
       "      <td>77.0</td>\n",
       "    </tr>\n",
       "  </tbody>\n",
       "</table>\n",
       "</div>"
      ],
      "text/plain": [
       "                     STATIONS_ID  MESS_DATUM  TT_TU  RF_TU\n",
       "Time                                                      \n",
       "2007-04-01 00:00:00           44  2007040100    7.3   78.0\n",
       "2007-04-01 01:00:00           44  2007040101    6.4   79.0\n",
       "2007-04-01 02:00:00           44  2007040102    5.4   80.0\n",
       "2007-04-01 03:00:00           44  2007040103    4.9   80.0\n",
       "2007-04-01 04:00:00           44  2007040104    4.5   77.0"
      ]
     },
     "execution_count": 174,
     "metadata": {},
     "output_type": "execute_result"
    }
   ],
   "source": [
    "data.head()"
   ]
  },
  {
   "cell_type": "markdown",
   "id": "816ca3e6-37fd-4ea3-8639-c484a5fb41df",
   "metadata": {},
   "source": [
    "And only the last data read in is stored in data, but since we want to combine them in a big dataset anyway it's ok"
   ]
  },
  {
   "cell_type": "markdown",
   "id": "84a34728-7955-42aa-9ed8-6287d6297d09",
   "metadata": {},
   "source": [
    "We create an empty DataFrame called data_big"
   ]
  },
  {
   "cell_type": "markdown",
   "id": "257b62a6-e85e-481d-94de-bdb9e0627a65",
   "metadata": {},
   "source": [
    "And concat both the read in data in each iteration to the (first empty) dataset named data_big"
   ]
  },
  {
   "cell_type": "code",
   "execution_count": 176,
   "id": "94102807-3b8f-4130-b944-6be6a4060101",
   "metadata": {},
   "outputs": [],
   "source": [
    "filelist = glob.glob('/data/ammda/2021/stundenwerte_TU_*/produkt_*')\n",
    "\n",
    "data_big = pd.DataFrame()\n",
    "\n",
    "for file in filelist:\n",
    "    data = pd.read_csv(file, sep = ';')\n",
    "    data['Time'] = pd.to_datetime(data['MESS_DATUM'], format = '%Y%m%d%H')\n",
    "    data.set_index('Time', inplace = True)\n",
    "    data.drop(['QN_9', 'eor'], axis = 1, inplace = True)\n",
    "    data.where(data != -999.0, inplace = True)\n",
    "    \n",
    "    data_big = pd.concat([data_big,data])"
   ]
  },
  {
   "cell_type": "code",
   "execution_count": 177,
   "id": "d9276cef-7f57-4389-aec8-15b598ebf722",
   "metadata": {},
   "outputs": [
    {
     "data": {
      "text/html": [
       "<div>\n",
       "<style scoped>\n",
       "    .dataframe tbody tr th:only-of-type {\n",
       "        vertical-align: middle;\n",
       "    }\n",
       "\n",
       "    .dataframe tbody tr th {\n",
       "        vertical-align: top;\n",
       "    }\n",
       "\n",
       "    .dataframe thead th {\n",
       "        text-align: right;\n",
       "    }\n",
       "</style>\n",
       "<table border=\"1\" class=\"dataframe\">\n",
       "  <thead>\n",
       "    <tr style=\"text-align: right;\">\n",
       "      <th></th>\n",
       "      <th>STATIONS_ID</th>\n",
       "      <th>MESS_DATUM</th>\n",
       "      <th>TT_TU</th>\n",
       "      <th>RF_TU</th>\n",
       "    </tr>\n",
       "    <tr>\n",
       "      <th>Time</th>\n",
       "      <th></th>\n",
       "      <th></th>\n",
       "      <th></th>\n",
       "      <th></th>\n",
       "    </tr>\n",
       "  </thead>\n",
       "  <tbody>\n",
       "    <tr>\n",
       "      <th>2002-01-01 00:00:00</th>\n",
       "      <td>102</td>\n",
       "      <td>2002010100</td>\n",
       "      <td>3.7</td>\n",
       "      <td>93.0</td>\n",
       "    </tr>\n",
       "    <tr>\n",
       "      <th>2002-01-01 01:00:00</th>\n",
       "      <td>102</td>\n",
       "      <td>2002010101</td>\n",
       "      <td>3.8</td>\n",
       "      <td>90.0</td>\n",
       "    </tr>\n",
       "    <tr>\n",
       "      <th>2002-01-01 02:00:00</th>\n",
       "      <td>102</td>\n",
       "      <td>2002010102</td>\n",
       "      <td>4.0</td>\n",
       "      <td>91.0</td>\n",
       "    </tr>\n",
       "    <tr>\n",
       "      <th>2002-01-01 03:00:00</th>\n",
       "      <td>102</td>\n",
       "      <td>2002010103</td>\n",
       "      <td>4.6</td>\n",
       "      <td>89.0</td>\n",
       "    </tr>\n",
       "    <tr>\n",
       "      <th>2002-01-01 04:00:00</th>\n",
       "      <td>102</td>\n",
       "      <td>2002010104</td>\n",
       "      <td>4.7</td>\n",
       "      <td>90.0</td>\n",
       "    </tr>\n",
       "    <tr>\n",
       "      <th>...</th>\n",
       "      <td>...</td>\n",
       "      <td>...</td>\n",
       "      <td>...</td>\n",
       "      <td>...</td>\n",
       "    </tr>\n",
       "    <tr>\n",
       "      <th>2020-12-31 19:00:00</th>\n",
       "      <td>44</td>\n",
       "      <td>2020123119</td>\n",
       "      <td>0.6</td>\n",
       "      <td>97.0</td>\n",
       "    </tr>\n",
       "    <tr>\n",
       "      <th>2020-12-31 20:00:00</th>\n",
       "      <td>44</td>\n",
       "      <td>2020123120</td>\n",
       "      <td>0.0</td>\n",
       "      <td>98.0</td>\n",
       "    </tr>\n",
       "    <tr>\n",
       "      <th>2020-12-31 21:00:00</th>\n",
       "      <td>44</td>\n",
       "      <td>2020123121</td>\n",
       "      <td>0.3</td>\n",
       "      <td>99.0</td>\n",
       "    </tr>\n",
       "    <tr>\n",
       "      <th>2020-12-31 22:00:00</th>\n",
       "      <td>44</td>\n",
       "      <td>2020123122</td>\n",
       "      <td>1.2</td>\n",
       "      <td>97.0</td>\n",
       "    </tr>\n",
       "    <tr>\n",
       "      <th>2020-12-31 23:00:00</th>\n",
       "      <td>44</td>\n",
       "      <td>2020123123</td>\n",
       "      <td>1.4</td>\n",
       "      <td>93.0</td>\n",
       "    </tr>\n",
       "  </tbody>\n",
       "</table>\n",
       "<p>274406 rows × 4 columns</p>\n",
       "</div>"
      ],
      "text/plain": [
       "                     STATIONS_ID  MESS_DATUM  TT_TU  RF_TU\n",
       "Time                                                      \n",
       "2002-01-01 00:00:00          102  2002010100    3.7   93.0\n",
       "2002-01-01 01:00:00          102  2002010101    3.8   90.0\n",
       "2002-01-01 02:00:00          102  2002010102    4.0   91.0\n",
       "2002-01-01 03:00:00          102  2002010103    4.6   89.0\n",
       "2002-01-01 04:00:00          102  2002010104    4.7   90.0\n",
       "...                          ...         ...    ...    ...\n",
       "2020-12-31 19:00:00           44  2020123119    0.6   97.0\n",
       "2020-12-31 20:00:00           44  2020123120    0.0   98.0\n",
       "2020-12-31 21:00:00           44  2020123121    0.3   99.0\n",
       "2020-12-31 22:00:00           44  2020123122    1.2   97.0\n",
       "2020-12-31 23:00:00           44  2020123123    1.4   93.0\n",
       "\n",
       "[274406 rows x 4 columns]"
      ]
     },
     "execution_count": 177,
     "metadata": {},
     "output_type": "execute_result"
    }
   ],
   "source": [
    "data_big"
   ]
  },
  {
   "cell_type": "markdown",
   "id": "6996a36b-3aeb-4f2d-8aa5-1f5d04fbb56e",
   "metadata": {},
   "source": [
    "And with .where we can always just choose the data we want to have"
   ]
  },
  {
   "cell_type": "code",
   "execution_count": 179,
   "id": "05450f3c-943f-4b60-9523-8e02c855abd1",
   "metadata": {},
   "outputs": [
    {
     "data": {
      "text/plain": [
       "Text(0, 1, 'Source: Deutscher Wetterdienst')"
      ]
     },
     "execution_count": 179,
     "metadata": {},
     "output_type": "execute_result"
    },
    {
     "data": {
      "image/png": "[encoded data removed]",
      "text/plain": [
       "<Figure size 640x480 with 1 Axes>"
      ]
     },
     "metadata": {},
     "output_type": "display_data"
    }
   ],
   "source": [
    "data_big.where(data_big['STATIONS_ID'] == 102)['TT_TU'].plot()\n",
    "\n",
    "plt.annotate('Source: Deutscher Wetterdienst', xy=(0,1), xycoords='figure points')"
   ]
  },
  {
   "cell_type": "code",
   "execution_count": null,
   "id": "26882ec7-4537-443a-844c-b445c3191985",
   "metadata": {},
   "outputs": [],
   "source": []
  }
 ],
 "metadata": {
  "kernelspec": {
   "display_name": "Jupyter 2022 (Python v3.9.13)",
   "language": "python",
   "name": "python3"
  },
  "language_info": {
   "codemirror_mode": {
    "name": "ipython",
    "version": 3
   },
   "file_extension": ".py",
   "mimetype": "text/x-python",
   "name": "python",
   "nbconvert_exporter": "python",
   "pygments_lexer": "ipython3",
   "version": "3.9.13"
  }
 },
 "nbformat": 4,
 "nbformat_minor": 5
}
